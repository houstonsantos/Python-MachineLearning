{
 "metadata": {
  "language_info": {
   "codemirror_mode": {
    "name": "ipython",
    "version": 3
   },
   "file_extension": ".py",
   "mimetype": "text/x-python",
   "name": "python",
   "nbconvert_exporter": "python",
   "pygments_lexer": "ipython3",
   "version": "3.8.2-final"
  },
  "orig_nbformat": 2,
  "kernelspec": {
   "name": "python_defaultSpec_1598122972034",
   "display_name": "Python 3.7.3 64-bit ('venv': venv)"
  }
 },
 "nbformat": 4,
 "nbformat_minor": 2,
 "cells": [
  {
   "cell_type": "code",
   "execution_count": 1,
   "metadata": {},
   "outputs": [],
   "source": [
    "import pandas as pd\n",
    "from sklearn.preprocessing import LabelEncoder\n",
    "from sklearn.ensemble import RandomForestClassifier\n",
    "from sklearn.model_selection import train_test_split\n",
    "from sklearn.metrics import confusion_matrix, accuracy_score"
   ]
  },
  {
   "cell_type": "markdown",
   "metadata": {},
   "source": [
    "## RandomForest"
   ]
  },
  {
   "cell_type": "code",
   "execution_count": 2,
   "metadata": {},
   "outputs": [
    {
     "output_type": "execute_result",
     "data": {
      "text/plain": "  checking_status  duration                    credit_history  \\\n0              <0         6  'critical/other existing credit'   \n1        0<=X<200        48                   'existing paid'   \n2   'no checking'        12  'critical/other existing credit'   \n3              <0        42                   'existing paid'   \n4              <0        24              'delayed previously'   \n\n               purpose  credit_amount      savings_status employment  \\\n0             radio/tv           1169  'no known savings'        >=7   \n1             radio/tv           5951                <100     1<=X<4   \n2            education           2096                <100     4<=X<7   \n3  furniture/equipment           7882                <100     4<=X<7   \n4            'new car'           4870                <100     1<=X<4   \n\n   installment_commitment       personal_status other_parties  ...  \\\n0                       4         'male single'          none  ...   \n1                       2  'female div/dep/mar'          none  ...   \n2                       2         'male single'          none  ...   \n3                       2         'male single'     guarantor  ...   \n4                       3         'male single'          none  ...   \n\n    property_magnitude age  other_payment_plans     housing existing_credits  \\\n0        'real estate'  67                 none         own                2   \n1        'real estate'  22                 none         own                1   \n2        'real estate'  49                 none         own                1   \n3     'life insurance'  45                 none  'for free'                1   \n4  'no known property'  53                 none  'for free'                2   \n\n                    job num_dependents  own_telephone foreign_worker class  \n0               skilled              1            yes            yes  good  \n1               skilled              1           none            yes   bad  \n2  'unskilled resident'              2           none            yes  good  \n3               skilled              2           none            yes  good  \n4               skilled              2           none            yes   bad  \n\n[5 rows x 21 columns]",
      "text/html": "<div>\n<style scoped>\n    .dataframe tbody tr th:only-of-type {\n        vertical-align: middle;\n    }\n\n    .dataframe tbody tr th {\n        vertical-align: top;\n    }\n\n    .dataframe thead th {\n        text-align: right;\n    }\n</style>\n<table border=\"1\" class=\"dataframe\">\n  <thead>\n    <tr style=\"text-align: right;\">\n      <th></th>\n      <th>checking_status</th>\n      <th>duration</th>\n      <th>credit_history</th>\n      <th>purpose</th>\n      <th>credit_amount</th>\n      <th>savings_status</th>\n      <th>employment</th>\n      <th>installment_commitment</th>\n      <th>personal_status</th>\n      <th>other_parties</th>\n      <th>...</th>\n      <th>property_magnitude</th>\n      <th>age</th>\n      <th>other_payment_plans</th>\n      <th>housing</th>\n      <th>existing_credits</th>\n      <th>job</th>\n      <th>num_dependents</th>\n      <th>own_telephone</th>\n      <th>foreign_worker</th>\n      <th>class</th>\n    </tr>\n  </thead>\n  <tbody>\n    <tr>\n      <th>0</th>\n      <td>&lt;0</td>\n      <td>6</td>\n      <td>'critical/other existing credit'</td>\n      <td>radio/tv</td>\n      <td>1169</td>\n      <td>'no known savings'</td>\n      <td>&gt;=7</td>\n      <td>4</td>\n      <td>'male single'</td>\n      <td>none</td>\n      <td>...</td>\n      <td>'real estate'</td>\n      <td>67</td>\n      <td>none</td>\n      <td>own</td>\n      <td>2</td>\n      <td>skilled</td>\n      <td>1</td>\n      <td>yes</td>\n      <td>yes</td>\n      <td>good</td>\n    </tr>\n    <tr>\n      <th>1</th>\n      <td>0&lt;=X&lt;200</td>\n      <td>48</td>\n      <td>'existing paid'</td>\n      <td>radio/tv</td>\n      <td>5951</td>\n      <td>&lt;100</td>\n      <td>1&lt;=X&lt;4</td>\n      <td>2</td>\n      <td>'female div/dep/mar'</td>\n      <td>none</td>\n      <td>...</td>\n      <td>'real estate'</td>\n      <td>22</td>\n      <td>none</td>\n      <td>own</td>\n      <td>1</td>\n      <td>skilled</td>\n      <td>1</td>\n      <td>none</td>\n      <td>yes</td>\n      <td>bad</td>\n    </tr>\n    <tr>\n      <th>2</th>\n      <td>'no checking'</td>\n      <td>12</td>\n      <td>'critical/other existing credit'</td>\n      <td>education</td>\n      <td>2096</td>\n      <td>&lt;100</td>\n      <td>4&lt;=X&lt;7</td>\n      <td>2</td>\n      <td>'male single'</td>\n      <td>none</td>\n      <td>...</td>\n      <td>'real estate'</td>\n      <td>49</td>\n      <td>none</td>\n      <td>own</td>\n      <td>1</td>\n      <td>'unskilled resident'</td>\n      <td>2</td>\n      <td>none</td>\n      <td>yes</td>\n      <td>good</td>\n    </tr>\n    <tr>\n      <th>3</th>\n      <td>&lt;0</td>\n      <td>42</td>\n      <td>'existing paid'</td>\n      <td>furniture/equipment</td>\n      <td>7882</td>\n      <td>&lt;100</td>\n      <td>4&lt;=X&lt;7</td>\n      <td>2</td>\n      <td>'male single'</td>\n      <td>guarantor</td>\n      <td>...</td>\n      <td>'life insurance'</td>\n      <td>45</td>\n      <td>none</td>\n      <td>'for free'</td>\n      <td>1</td>\n      <td>skilled</td>\n      <td>2</td>\n      <td>none</td>\n      <td>yes</td>\n      <td>good</td>\n    </tr>\n    <tr>\n      <th>4</th>\n      <td>&lt;0</td>\n      <td>24</td>\n      <td>'delayed previously'</td>\n      <td>'new car'</td>\n      <td>4870</td>\n      <td>&lt;100</td>\n      <td>1&lt;=X&lt;4</td>\n      <td>3</td>\n      <td>'male single'</td>\n      <td>none</td>\n      <td>...</td>\n      <td>'no known property'</td>\n      <td>53</td>\n      <td>none</td>\n      <td>'for free'</td>\n      <td>2</td>\n      <td>skilled</td>\n      <td>2</td>\n      <td>none</td>\n      <td>yes</td>\n      <td>bad</td>\n    </tr>\n  </tbody>\n</table>\n<p>5 rows × 21 columns</p>\n</div>"
     },
     "metadata": {},
     "execution_count": 2
    }
   ],
   "source": [
    "# Importando base de dados\n",
    "credito = pd.read_csv('../Dados/Credit.csv')\n",
    "credito.head()"
   ]
  },
  {
   "cell_type": "code",
   "execution_count": 3,
   "metadata": {},
   "outputs": [],
   "source": [
    "# Separando dados e classe (Feature, Target)\n",
    "previsores = credito.iloc[:, 0:20].values\n",
    "classe = credito.iloc[:, 20].values"
   ]
  },
  {
   "cell_type": "code",
   "execution_count": 4,
   "metadata": {},
   "outputs": [],
   "source": [
    "# Convertendo valores categóricos em numéricos\n",
    "label_enconder = LabelEncoder()\n",
    "previsores[:, 0] = label_enconder.fit_transform(previsores[:, 0])\n",
    "previsores[:, 2] = label_enconder.fit_transform(previsores[:, 2])\n",
    "previsores[:, 3] = label_enconder.fit_transform(previsores[:, 3])\n",
    "previsores[:, 5] = label_enconder.fit_transform(previsores[:, 5])\n",
    "previsores[:, 6] = label_enconder.fit_transform(previsores[:, 6])\n",
    "previsores[:, 8] = label_enconder.fit_transform(previsores[:, 8])\n",
    "previsores[:, 9] = label_enconder.fit_transform(previsores[:, 9])\n",
    "previsores[:, 11] = label_enconder.fit_transform(previsores[:, 11])\n",
    "previsores[:, 13] = label_enconder.fit_transform(previsores[:, 13])\n",
    "previsores[:, 14] = label_enconder.fit_transform(previsores[:, 14])\n",
    "previsores[:, 16] = label_enconder.fit_transform(previsores[:, 16])\n",
    "previsores[:, 18] = label_enconder.fit_transform(previsores[:, 18])\n",
    "previsores[:, 19] = label_enconder.fit_transform(previsores[:, 19])\n",
    "\n",
    "# Dividindo base entre treino e teste\n",
    "X_training, X_test, y_training, y_test = train_test_split(previsores, classe, test_size = 0.3, random_state = 0)"
   ]
  },
  {
   "cell_type": "code",
   "execution_count": 6,
   "metadata": {},
   "outputs": [
    {
     "output_type": "execute_result",
     "data": {
      "text/plain": "RandomForestClassifier()"
     },
     "metadata": {},
     "execution_count": 6
    }
   ],
   "source": [
    "# Criando modelo de treinamento e teste\n",
    "floresta = RandomForestClassifier(n_estimators = 100)\n",
    "floresta.fit(X_training, y_training)"
   ]
  },
  {
   "cell_type": "code",
   "execution_count": 7,
   "metadata": {},
   "outputs": [
    {
     "output_type": "execute_result",
     "data": {
      "text/plain": "[DecisionTreeClassifier(max_features='auto', random_state=1533904485),\n DecisionTreeClassifier(max_features='auto', random_state=2067998892),\n DecisionTreeClassifier(max_features='auto', random_state=1141988455),\n DecisionTreeClassifier(max_features='auto', random_state=396758279),\n DecisionTreeClassifier(max_features='auto', random_state=276669218),\n DecisionTreeClassifier(max_features='auto', random_state=1904005762),\n DecisionTreeClassifier(max_features='auto', random_state=482597963),\n DecisionTreeClassifier(max_features='auto', random_state=671269233),\n DecisionTreeClassifier(max_features='auto', random_state=2106368761),\n DecisionTreeClassifier(max_features='auto', random_state=966453014),\n DecisionTreeClassifier(max_features='auto', random_state=983964235),\n DecisionTreeClassifier(max_features='auto', random_state=1857691891),\n DecisionTreeClassifier(max_features='auto', random_state=372436821),\n DecisionTreeClassifier(max_features='auto', random_state=1977625830),\n DecisionTreeClassifier(max_features='auto', random_state=658857432),\n DecisionTreeClassifier(max_features='auto', random_state=1220867140),\n DecisionTreeClassifier(max_features='auto', random_state=131447424),\n DecisionTreeClassifier(max_features='auto', random_state=1884866406),\n DecisionTreeClassifier(max_features='auto', random_state=2068531189),\n DecisionTreeClassifier(max_features='auto', random_state=556732957),\n DecisionTreeClassifier(max_features='auto', random_state=2081128228),\n DecisionTreeClassifier(max_features='auto', random_state=1547355447),\n DecisionTreeClassifier(max_features='auto', random_state=658156495),\n DecisionTreeClassifier(max_features='auto', random_state=1856626978),\n DecisionTreeClassifier(max_features='auto', random_state=1020751313),\n DecisionTreeClassifier(max_features='auto', random_state=1995974872),\n DecisionTreeClassifier(max_features='auto', random_state=1365335565),\n DecisionTreeClassifier(max_features='auto', random_state=649957489),\n DecisionTreeClassifier(max_features='auto', random_state=2000084258),\n DecisionTreeClassifier(max_features='auto', random_state=1108617239),\n DecisionTreeClassifier(max_features='auto', random_state=648952992),\n DecisionTreeClassifier(max_features='auto', random_state=1289150646),\n DecisionTreeClassifier(max_features='auto', random_state=1832895307),\n DecisionTreeClassifier(max_features='auto', random_state=1699853951),\n DecisionTreeClassifier(max_features='auto', random_state=1985003095),\n DecisionTreeClassifier(max_features='auto', random_state=1095680928),\n DecisionTreeClassifier(max_features='auto', random_state=738903471),\n DecisionTreeClassifier(max_features='auto', random_state=1208553367),\n DecisionTreeClassifier(max_features='auto', random_state=1782358009),\n DecisionTreeClassifier(max_features='auto', random_state=2138111065),\n DecisionTreeClassifier(max_features='auto', random_state=1645917150),\n DecisionTreeClassifier(max_features='auto', random_state=1698699979),\n DecisionTreeClassifier(max_features='auto', random_state=692413646),\n DecisionTreeClassifier(max_features='auto', random_state=2008331221),\n DecisionTreeClassifier(max_features='auto', random_state=659126497),\n DecisionTreeClassifier(max_features='auto', random_state=1063708496),\n DecisionTreeClassifier(max_features='auto', random_state=1974360939),\n DecisionTreeClassifier(max_features='auto', random_state=1395299904),\n DecisionTreeClassifier(max_features='auto', random_state=1376881524),\n DecisionTreeClassifier(max_features='auto', random_state=723567438),\n DecisionTreeClassifier(max_features='auto', random_state=338072897),\n DecisionTreeClassifier(max_features='auto', random_state=474757523),\n DecisionTreeClassifier(max_features='auto', random_state=1106931344),\n DecisionTreeClassifier(max_features='auto', random_state=249479085),\n DecisionTreeClassifier(max_features='auto', random_state=1319718172),\n DecisionTreeClassifier(max_features='auto', random_state=2016972237),\n DecisionTreeClassifier(max_features='auto', random_state=733608765),\n DecisionTreeClassifier(max_features='auto', random_state=1781183798),\n DecisionTreeClassifier(max_features='auto', random_state=1661149681),\n DecisionTreeClassifier(max_features='auto', random_state=1426949533),\n DecisionTreeClassifier(max_features='auto', random_state=1749715878),\n DecisionTreeClassifier(max_features='auto', random_state=1046067909),\n DecisionTreeClassifier(max_features='auto', random_state=864227411),\n DecisionTreeClassifier(max_features='auto', random_state=289291879),\n DecisionTreeClassifier(max_features='auto', random_state=966876414),\n DecisionTreeClassifier(max_features='auto', random_state=683297775),\n DecisionTreeClassifier(max_features='auto', random_state=647598248),\n DecisionTreeClassifier(max_features='auto', random_state=1899645290),\n DecisionTreeClassifier(max_features='auto', random_state=1631385169),\n DecisionTreeClassifier(max_features='auto', random_state=1530259068),\n DecisionTreeClassifier(max_features='auto', random_state=1311395704),\n DecisionTreeClassifier(max_features='auto', random_state=76687450),\n DecisionTreeClassifier(max_features='auto', random_state=11036119),\n DecisionTreeClassifier(max_features='auto', random_state=1059566850),\n DecisionTreeClassifier(max_features='auto', random_state=1960860353),\n DecisionTreeClassifier(max_features='auto', random_state=144246720),\n DecisionTreeClassifier(max_features='auto', random_state=1694004346),\n DecisionTreeClassifier(max_features='auto', random_state=2031818279),\n DecisionTreeClassifier(max_features='auto', random_state=782047694),\n DecisionTreeClassifier(max_features='auto', random_state=622267127),\n DecisionTreeClassifier(max_features='auto', random_state=483580758),\n DecisionTreeClassifier(max_features='auto', random_state=674691612),\n DecisionTreeClassifier(max_features='auto', random_state=1193347652),\n DecisionTreeClassifier(max_features='auto', random_state=230396903),\n DecisionTreeClassifier(max_features='auto', random_state=1121781885),\n DecisionTreeClassifier(max_features='auto', random_state=1879917468),\n DecisionTreeClassifier(max_features='auto', random_state=1362921082),\n DecisionTreeClassifier(max_features='auto', random_state=1506277965),\n DecisionTreeClassifier(max_features='auto', random_state=941524014),\n DecisionTreeClassifier(max_features='auto', random_state=1088796115),\n DecisionTreeClassifier(max_features='auto', random_state=1289406191),\n DecisionTreeClassifier(max_features='auto', random_state=1831198579),\n DecisionTreeClassifier(max_features='auto', random_state=22905511),\n DecisionTreeClassifier(max_features='auto', random_state=707005097),\n DecisionTreeClassifier(max_features='auto', random_state=1498279904),\n DecisionTreeClassifier(max_features='auto', random_state=1360049820),\n DecisionTreeClassifier(max_features='auto', random_state=1110008932),\n DecisionTreeClassifier(max_features='auto', random_state=1381869577),\n DecisionTreeClassifier(max_features='auto', random_state=1271700737),\n DecisionTreeClassifier(max_features='auto', random_state=531376605)]"
     },
     "metadata": {},
     "execution_count": 7
    }
   ],
   "source": [
    "# Vizualização dos atributos principais\n",
    "floresta.estimators_"
   ]
  },
  {
   "cell_type": "code",
   "execution_count": 7,
   "metadata": {},
   "outputs": [
    {
     "output_type": "execute_result",
     "data": {
      "text/plain": "array(['bad', 'good', 'good', 'good', 'good', 'good', 'good', 'good',\n       'good', 'bad', 'bad', 'good', 'good', 'good', 'bad', 'good',\n       'good', 'good', 'bad', 'good', 'good', 'bad', 'good', 'good',\n       'good', 'bad', 'good', 'good', 'good', 'bad', 'good', 'good',\n       'good', 'good', 'good', 'bad', 'good', 'good', 'good', 'good',\n       'good', 'bad', 'good', 'good', 'good', 'bad', 'good', 'bad',\n       'good', 'good', 'good', 'bad', 'good', 'good', 'good', 'good',\n       'bad', 'good', 'good', 'good', 'bad', 'good', 'good', 'good',\n       'good', 'good', 'good', 'good', 'bad', 'good', 'good', 'good',\n       'bad', 'good', 'bad', 'good', 'good', 'good', 'good', 'good',\n       'good', 'good', 'good', 'good', 'good', 'good', 'good', 'bad',\n       'good', 'good', 'good', 'good', 'good', 'good', 'good', 'good',\n       'good', 'good', 'good', 'good', 'good', 'good', 'good', 'good',\n       'good', 'good', 'bad', 'bad', 'bad', 'good', 'good', 'good', 'bad',\n       'good', 'good', 'good', 'bad', 'good', 'good', 'good', 'good',\n       'good', 'good', 'bad', 'good', 'good', 'good', 'good', 'good',\n       'good', 'good', 'good', 'bad', 'good', 'good', 'good', 'good',\n       'good', 'good', 'bad', 'bad', 'bad', 'good', 'good', 'good',\n       'good', 'good', 'bad', 'good', 'good', 'good', 'good', 'good',\n       'good', 'good', 'good', 'good', 'good', 'good', 'good', 'good',\n       'good', 'good', 'good', 'bad', 'bad', 'bad', 'good', 'good',\n       'good', 'bad', 'good', 'bad', 'good', 'good', 'bad', 'bad', 'bad',\n       'good', 'good', 'good', 'good', 'good', 'bad', 'good', 'good',\n       'good', 'good', 'good', 'good', 'good', 'bad', 'good', 'good',\n       'good', 'good', 'bad', 'good', 'good', 'good', 'good', 'good',\n       'bad', 'bad', 'good', 'good', 'bad', 'good', 'good', 'good',\n       'good', 'good', 'good', 'good', 'good', 'good', 'good', 'good',\n       'good', 'good', 'bad', 'good', 'good', 'good', 'good', 'good',\n       'good', 'bad', 'bad', 'good', 'good', 'good', 'good', 'good',\n       'bad', 'bad', 'good', 'good', 'good', 'good', 'good', 'good',\n       'good', 'good', 'good', 'good', 'good', 'good', 'good', 'good',\n       'good', 'good', 'good', 'good', 'good', 'good', 'bad', 'good',\n       'good', 'good', 'good', 'good', 'good', 'good', 'bad', 'bad',\n       'good', 'good', 'good', 'good', 'bad', 'good', 'good', 'good',\n       'good', 'good', 'good', 'good', 'good', 'good', 'good', 'good',\n       'good', 'good', 'good', 'good', 'good', 'good', 'good', 'good',\n       'good', 'good', 'good', 'good', 'good', 'good', 'bad', 'good',\n       'bad', 'bad'], dtype=object)"
     },
     "metadata": {},
     "execution_count": 7
    }
   ],
   "source": [
    "# Testando modelo\n",
    "previsoes = floresta.predict(X_test)\n",
    "previsoes"
   ]
  },
  {
   "cell_type": "code",
   "execution_count": 8,
   "metadata": {},
   "outputs": [
    {
     "output_type": "execute_result",
     "data": {
      "text/plain": "array([[ 37,  49],\n       [ 19, 195]])"
     },
     "metadata": {},
     "execution_count": 8
    }
   ],
   "source": [
    "# Gerando matriz de confusão\n",
    "confusao = confusion_matrix(y_test, previsoes)\n",
    "confusao"
   ]
  },
  {
   "cell_type": "code",
   "execution_count": 9,
   "metadata": {},
   "outputs": [
    {
     "output_type": "execute_result",
     "data": {
      "text/plain": "0.7733333333333333"
     },
     "metadata": {},
     "execution_count": 9
    }
   ],
   "source": [
    "# Verificando taxa de acerto\n",
    "taxa_acerto = accuracy_score(y_test, previsoes)\n",
    "taxa_acerto"
   ]
  },
  {
   "cell_type": "code",
   "execution_count": 10,
   "metadata": {},
   "outputs": [
    {
     "output_type": "execute_result",
     "data": {
      "text/plain": "0.22666666666666668"
     },
     "metadata": {},
     "execution_count": 10
    }
   ],
   "source": [
    "# Verificando taxa de erro\n",
    "taxa_erro = 1 - taxa_acerto\n",
    "taxa_erro"
   ]
  },
  {
   "cell_type": "code",
   "execution_count": 12,
   "metadata": {},
   "outputs": [
    {
     "output_type": "execute_result",
     "data": {
      "text/plain": "[DecisionTreeClassifier(max_features='auto', random_state=2116285466),\n DecisionTreeClassifier(max_features='auto', random_state=1308180464),\n DecisionTreeClassifier(max_features='auto', random_state=13381242),\n DecisionTreeClassifier(max_features='auto', random_state=1218757057),\n DecisionTreeClassifier(max_features='auto', random_state=946957466),\n DecisionTreeClassifier(max_features='auto', random_state=1665564144),\n DecisionTreeClassifier(max_features='auto', random_state=764659465),\n DecisionTreeClassifier(max_features='auto', random_state=2027109875),\n DecisionTreeClassifier(max_features='auto', random_state=1736444540),\n DecisionTreeClassifier(max_features='auto', random_state=1471187083),\n DecisionTreeClassifier(max_features='auto', random_state=1983695656),\n DecisionTreeClassifier(max_features='auto', random_state=334451137),\n DecisionTreeClassifier(max_features='auto', random_state=49359999),\n DecisionTreeClassifier(max_features='auto', random_state=115889310),\n DecisionTreeClassifier(max_features='auto', random_state=637652262),\n DecisionTreeClassifier(max_features='auto', random_state=1997091494),\n DecisionTreeClassifier(max_features='auto', random_state=1140695850),\n DecisionTreeClassifier(max_features='auto', random_state=1869619997),\n DecisionTreeClassifier(max_features='auto', random_state=164429695),\n DecisionTreeClassifier(max_features='auto', random_state=19280254),\n DecisionTreeClassifier(max_features='auto', random_state=85727768),\n DecisionTreeClassifier(max_features='auto', random_state=1048157508),\n DecisionTreeClassifier(max_features='auto', random_state=466972715),\n DecisionTreeClassifier(max_features='auto', random_state=30365274),\n DecisionTreeClassifier(max_features='auto', random_state=463611764),\n DecisionTreeClassifier(max_features='auto', random_state=1190623515),\n DecisionTreeClassifier(max_features='auto', random_state=863451358),\n DecisionTreeClassifier(max_features='auto', random_state=790104631),\n DecisionTreeClassifier(max_features='auto', random_state=163409870),\n DecisionTreeClassifier(max_features='auto', random_state=1863243709),\n DecisionTreeClassifier(max_features='auto', random_state=979944313),\n DecisionTreeClassifier(max_features='auto', random_state=1588186156),\n DecisionTreeClassifier(max_features='auto', random_state=793411393),\n DecisionTreeClassifier(max_features='auto', random_state=1902732510),\n DecisionTreeClassifier(max_features='auto', random_state=438051472),\n DecisionTreeClassifier(max_features='auto', random_state=1793612111),\n DecisionTreeClassifier(max_features='auto', random_state=455719397),\n DecisionTreeClassifier(max_features='auto', random_state=1503972252),\n DecisionTreeClassifier(max_features='auto', random_state=926688798),\n DecisionTreeClassifier(max_features='auto', random_state=859217484),\n DecisionTreeClassifier(max_features='auto', random_state=777064842),\n DecisionTreeClassifier(max_features='auto', random_state=1008981752),\n DecisionTreeClassifier(max_features='auto', random_state=1582026680),\n DecisionTreeClassifier(max_features='auto', random_state=1673257652),\n DecisionTreeClassifier(max_features='auto', random_state=812266186),\n DecisionTreeClassifier(max_features='auto', random_state=40673088),\n DecisionTreeClassifier(max_features='auto', random_state=2068298052),\n DecisionTreeClassifier(max_features='auto', random_state=1377184488),\n DecisionTreeClassifier(max_features='auto', random_state=2060410049),\n DecisionTreeClassifier(max_features='auto', random_state=1750992212),\n DecisionTreeClassifier(max_features='auto', random_state=1928796915),\n DecisionTreeClassifier(max_features='auto', random_state=1552263364),\n DecisionTreeClassifier(max_features='auto', random_state=894265293),\n DecisionTreeClassifier(max_features='auto', random_state=521199312),\n DecisionTreeClassifier(max_features='auto', random_state=396546106),\n DecisionTreeClassifier(max_features='auto', random_state=298156302),\n DecisionTreeClassifier(max_features='auto', random_state=1748691257),\n DecisionTreeClassifier(max_features='auto', random_state=2042647694),\n DecisionTreeClassifier(max_features='auto', random_state=153530605),\n DecisionTreeClassifier(max_features='auto', random_state=303362528),\n DecisionTreeClassifier(max_features='auto', random_state=876958593),\n DecisionTreeClassifier(max_features='auto', random_state=1740226087),\n DecisionTreeClassifier(max_features='auto', random_state=677777690),\n DecisionTreeClassifier(max_features='auto', random_state=669566573),\n DecisionTreeClassifier(max_features='auto', random_state=500908718),\n DecisionTreeClassifier(max_features='auto', random_state=19683355),\n DecisionTreeClassifier(max_features='auto', random_state=168662520),\n DecisionTreeClassifier(max_features='auto', random_state=1737763798),\n DecisionTreeClassifier(max_features='auto', random_state=934112606),\n DecisionTreeClassifier(max_features='auto', random_state=1467106255),\n DecisionTreeClassifier(max_features='auto', random_state=1317593072),\n DecisionTreeClassifier(max_features='auto', random_state=1522504763),\n DecisionTreeClassifier(max_features='auto', random_state=1409793440),\n DecisionTreeClassifier(max_features='auto', random_state=161489311),\n DecisionTreeClassifier(max_features='auto', random_state=1049516361),\n DecisionTreeClassifier(max_features='auto', random_state=981260389),\n DecisionTreeClassifier(max_features='auto', random_state=687561863),\n DecisionTreeClassifier(max_features='auto', random_state=1815911192),\n DecisionTreeClassifier(max_features='auto', random_state=966220873),\n DecisionTreeClassifier(max_features='auto', random_state=2073632011),\n DecisionTreeClassifier(max_features='auto', random_state=1460779257),\n DecisionTreeClassifier(max_features='auto', random_state=961060070),\n DecisionTreeClassifier(max_features='auto', random_state=785297046),\n DecisionTreeClassifier(max_features='auto', random_state=1204845191),\n DecisionTreeClassifier(max_features='auto', random_state=654373161),\n DecisionTreeClassifier(max_features='auto', random_state=280011275),\n DecisionTreeClassifier(max_features='auto', random_state=1535620250),\n DecisionTreeClassifier(max_features='auto', random_state=1211998030),\n DecisionTreeClassifier(max_features='auto', random_state=1600421071),\n DecisionTreeClassifier(max_features='auto', random_state=1815855116),\n DecisionTreeClassifier(max_features='auto', random_state=428411066),\n DecisionTreeClassifier(max_features='auto', random_state=1528796633),\n DecisionTreeClassifier(max_features='auto', random_state=1320182959),\n DecisionTreeClassifier(max_features='auto', random_state=643333512),\n DecisionTreeClassifier(max_features='auto', random_state=1750746020),\n DecisionTreeClassifier(max_features='auto', random_state=1989221346),\n DecisionTreeClassifier(max_features='auto', random_state=861005217),\n DecisionTreeClassifier(max_features='auto', random_state=1770640723),\n DecisionTreeClassifier(max_features='auto', random_state=1390771572),\n DecisionTreeClassifier(max_features='auto', random_state=460641060)]"
     },
     "metadata": {},
     "execution_count": 12
    }
   ],
   "source": [
    "# Verificando dados das árvores\n",
    "floresta.estimators_"
   ]
  },
  {
   "cell_type": "code",
   "execution_count": 13,
   "metadata": {},
   "outputs": [
    {
     "output_type": "execute_result",
     "data": {
      "text/plain": "DecisionTreeClassifier(max_features='auto', random_state=1308180464)"
     },
     "metadata": {},
     "execution_count": 13
    }
   ],
   "source": [
    "# Verificando dados das árvores\n",
    "floresta.estimators_[1]"
   ]
  }
 ]
}