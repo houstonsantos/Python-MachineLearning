{
 "metadata": {
  "language_info": {
   "codemirror_mode": {
    "name": "ipython",
    "version": 3
   },
   "file_extension": ".py",
   "mimetype": "text/x-python",
   "name": "python",
   "nbconvert_exporter": "python",
   "pygments_lexer": "ipython3",
   "version": 3
  },
  "orig_nbformat": 2,
  "kernelspec": {
   "name": "python_defaultSpec_1596849831380",
   "display_name": "Python 3.7.3 64-bit ('venv': venv)"
  }
 },
 "nbformat": 4,
 "nbformat_minor": 2,
 "cells": [
  {
   "cell_type": "code",
   "execution_count": null,
   "metadata": {},
   "outputs": [],
   "source": [
    "import numpy as np\n",
    "import skfuzzy\n",
    "from sklearn import datasets\n",
    "from sklearn.metrics import confusion_matrix"
   ]
  },
  {
   "cell_type": "markdown",
   "metadata": {},
   "source": [
    "## Fuzzy C-means"
   ]
  },
  {
   "cell_type": "code",
   "execution_count": null,
   "metadata": {},
   "outputs": [],
   "source": [
    "# Inportando base de dados\n",
    "iris = datasets.load_iris()"
   ]
  },
  {
   "cell_type": "code",
   "execution_count": null,
   "metadata": {},
   "outputs": [],
   "source": [
    "# Executando algoritimo\n",
    "r = skfuzzy.cmeans(data = iris.data.T, c = 3, m = 2, error = 0.005, maxiter = 1000, init = None)\n",
    "\n",
    "# Probabilidades\n",
    "previsoes_porcentagem = r[1]\n",
    "\n",
    "# Verificando probabilidade dos registros 0, 1 e 2\n",
    "previsoes_porcentagem[0][0]\n",
    "previsoes_porcentagem[1][0]\n",
    "previsoes_porcentagem[2][0]\n",
    "\n",
    "# Verificando previsões de acordo com a maior porcentagem atribuida\n",
    "previsoes = previsoes_porcentagem.argmax(axis = 0)\n",
    "\n",
    "# Gerando matriz de confusão\n",
    "confusao = confusion_matrix(iris.target, previsoes)"
   ]
  }
 ]
}