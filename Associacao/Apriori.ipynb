{
 "metadata": {
  "language_info": {
   "codemirror_mode": {
    "name": "ipython",
    "version": 3
   },
   "file_extension": ".py",
   "mimetype": "text/x-python",
   "name": "python",
   "nbconvert_exporter": "python",
   "pygments_lexer": "ipython3",
   "version": 3
  },
  "orig_nbformat": 2,
  "kernelspec": {
   "name": "python_defaultSpec_1596850886229",
   "display_name": "Python 3.7.3 64-bit ('venv': venv)"
  }
 },
 "nbformat": 4,
 "nbformat_minor": 2,
 "cells": [
  {
   "cell_type": "code",
   "execution_count": 2,
   "metadata": {},
   "outputs": [],
   "source": [
    "import pandas as pd\n",
    "from apyori import apriori"
   ]
  },
  {
   "cell_type": "markdown",
   "metadata": {},
   "source": [
    "## Apriori"
   ]
  },
  {
   "cell_type": "code",
   "execution_count": 5,
   "metadata": {},
   "outputs": [],
   "source": [
    "# Importando base de dados\n",
    "base = pd.read_csv('../Dados/Transacoes1.txt', header = None)"
   ]
  },
  {
   "cell_type": "code",
   "execution_count": 8,
   "metadata": {},
   "outputs": [
    {
     "output_type": "execute_result",
     "data": {
      "text/plain": "         0        1        2\n0  Cerveja    Pizza  Sorvete\n1    Pizza  Sorvete      NaN\n2  Cerveja    Pizza      NaN\n3  Cerveja    Pizza  Sorvete\n4  Cerveja    Pizza      NaN",
      "text/html": "<div>\n<style scoped>\n    .dataframe tbody tr th:only-of-type {\n        vertical-align: middle;\n    }\n\n    .dataframe tbody tr th {\n        vertical-align: top;\n    }\n\n    .dataframe thead th {\n        text-align: right;\n    }\n</style>\n<table border=\"1\" class=\"dataframe\">\n  <thead>\n    <tr style=\"text-align: right;\">\n      <th></th>\n      <th>0</th>\n      <th>1</th>\n      <th>2</th>\n    </tr>\n  </thead>\n  <tbody>\n    <tr>\n      <th>0</th>\n      <td>Cerveja</td>\n      <td>Pizza</td>\n      <td>Sorvete</td>\n    </tr>\n    <tr>\n      <th>1</th>\n      <td>Pizza</td>\n      <td>Sorvete</td>\n      <td>NaN</td>\n    </tr>\n    <tr>\n      <th>2</th>\n      <td>Cerveja</td>\n      <td>Pizza</td>\n      <td>NaN</td>\n    </tr>\n    <tr>\n      <th>3</th>\n      <td>Cerveja</td>\n      <td>Pizza</td>\n      <td>Sorvete</td>\n    </tr>\n    <tr>\n      <th>4</th>\n      <td>Cerveja</td>\n      <td>Pizza</td>\n      <td>NaN</td>\n    </tr>\n  </tbody>\n</table>\n</div>"
     },
     "metadata": {},
     "execution_count": 8
    }
   ],
   "source": [
    "base.head()"
   ]
  },
  {
   "cell_type": "code",
   "execution_count": 9,
   "metadata": {},
   "outputs": [
    {
     "output_type": "execute_result",
     "data": {
      "text/plain": "[['Cerveja', 'Pizza', 'Sorvete'],\n ['Pizza', 'Sorvete', 'nan'],\n ['Cerveja', 'Pizza', 'nan'],\n ['Cerveja', 'Pizza', 'Sorvete'],\n ['Cerveja', 'Pizza', 'nan'],\n ['Pizza', 'nan', 'nan']]"
     },
     "metadata": {},
     "execution_count": 9
    }
   ],
   "source": [
    "# Modificando estrutura de dados para lista\n",
    "transacoes = []\n",
    "for i in range(0, 6):\n",
    "    transacoes.append([str(base.values[i ,j]) for j in range(0, 3)])\n",
    "\n",
    "transacoes"
   ]
  },
  {
   "cell_type": "code",
   "execution_count": 11,
   "metadata": {},
   "outputs": [],
   "source": [
    "# Executando algoritimo\n",
    "regras = apriori(transacoes, min_support = 0.5, min_confidence = 0.5)"
   ]
  },
  {
   "cell_type": "code",
   "execution_count": 12,
   "metadata": {},
   "outputs": [
    {
     "output_type": "execute_result",
     "data": {
      "text/plain": "[RelationRecord(items=frozenset({'Cerveja'}), support=0.6666666666666666, ordered_statistics=[OrderedStatistic(items_base=frozenset(), items_add=frozenset({'Cerveja'}), confidence=0.6666666666666666, lift=1.0)]),\n RelationRecord(items=frozenset({'Pizza'}), support=1.0, ordered_statistics=[OrderedStatistic(items_base=frozenset(), items_add=frozenset({'Pizza'}), confidence=1.0, lift=1.0)]),\n RelationRecord(items=frozenset({'Sorvete'}), support=0.5, ordered_statistics=[OrderedStatistic(items_base=frozenset(), items_add=frozenset({'Sorvete'}), confidence=0.5, lift=1.0)]),\n RelationRecord(items=frozenset({'nan'}), support=0.6666666666666666, ordered_statistics=[OrderedStatistic(items_base=frozenset(), items_add=frozenset({'nan'}), confidence=0.6666666666666666, lift=1.0)]),\n RelationRecord(items=frozenset({'Pizza', 'Cerveja'}), support=0.6666666666666666, ordered_statistics=[OrderedStatistic(items_base=frozenset(), items_add=frozenset({'Pizza', 'Cerveja'}), confidence=0.6666666666666666, lift=1.0), OrderedStatistic(items_base=frozenset({'Cerveja'}), items_add=frozenset({'Pizza'}), confidence=1.0, lift=1.0), OrderedStatistic(items_base=frozenset({'Pizza'}), items_add=frozenset({'Cerveja'}), confidence=0.6666666666666666, lift=1.0)]),\n RelationRecord(items=frozenset({'Pizza', 'Sorvete'}), support=0.5, ordered_statistics=[OrderedStatistic(items_base=frozenset(), items_add=frozenset({'Pizza', 'Sorvete'}), confidence=0.5, lift=1.0), OrderedStatistic(items_base=frozenset({'Pizza'}), items_add=frozenset({'Sorvete'}), confidence=0.5, lift=1.0), OrderedStatistic(items_base=frozenset({'Sorvete'}), items_add=frozenset({'Pizza'}), confidence=1.0, lift=1.0)]),\n RelationRecord(items=frozenset({'Pizza', 'nan'}), support=0.6666666666666666, ordered_statistics=[OrderedStatistic(items_base=frozenset(), items_add=frozenset({'Pizza', 'nan'}), confidence=0.6666666666666666, lift=1.0), OrderedStatistic(items_base=frozenset({'Pizza'}), items_add=frozenset({'nan'}), confidence=0.6666666666666666, lift=1.0), OrderedStatistic(items_base=frozenset({'nan'}), items_add=frozenset({'Pizza'}), confidence=1.0, lift=1.0)])]"
     },
     "metadata": {},
     "execution_count": 12
    }
   ],
   "source": [
    "# Pegando resultados\n",
    "resultados = list(regras)\n",
    "resultados"
   ]
  },
  {
   "cell_type": "code",
   "execution_count": 13,
   "metadata": {},
   "outputs": [
    {
     "output_type": "execute_result",
     "data": {
      "text/plain": "[[frozenset({'Cerveja'}),\n  0.6666666666666666,\n  [OrderedStatistic(items_base=frozenset(), items_add=frozenset({'Cerveja'}), confidence=0.6666666666666666, lift=1.0)]],\n [frozenset({'Pizza'}),\n  1.0,\n  [OrderedStatistic(items_base=frozenset(), items_add=frozenset({'Pizza'}), confidence=1.0, lift=1.0)]],\n [frozenset({'Sorvete'}),\n  0.5,\n  [OrderedStatistic(items_base=frozenset(), items_add=frozenset({'Sorvete'}), confidence=0.5, lift=1.0)]],\n [frozenset({'nan'}),\n  0.6666666666666666,\n  [OrderedStatistic(items_base=frozenset(), items_add=frozenset({'nan'}), confidence=0.6666666666666666, lift=1.0)]],\n [frozenset({'Cerveja', 'Pizza'}),\n  0.6666666666666666,\n  [OrderedStatistic(items_base=frozenset(), items_add=frozenset({'Pizza', 'Cerveja'}), confidence=0.6666666666666666, lift=1.0),\n   OrderedStatistic(items_base=frozenset({'Cerveja'}), items_add=frozenset({'Pizza'}), confidence=1.0, lift=1.0),\n   OrderedStatistic(items_base=frozenset({'Pizza'}), items_add=frozenset({'Cerveja'}), confidence=0.6666666666666666, lift=1.0)]],\n [frozenset({'Pizza', 'Sorvete'}),\n  0.5,\n  [OrderedStatistic(items_base=frozenset(), items_add=frozenset({'Pizza', 'Sorvete'}), confidence=0.5, lift=1.0),\n   OrderedStatistic(items_base=frozenset({'Pizza'}), items_add=frozenset({'Sorvete'}), confidence=0.5, lift=1.0),\n   OrderedStatistic(items_base=frozenset({'Sorvete'}), items_add=frozenset({'Pizza'}), confidence=1.0, lift=1.0)]],\n [frozenset({'Pizza', 'nan'}),\n  0.6666666666666666,\n  [OrderedStatistic(items_base=frozenset(), items_add=frozenset({'Pizza', 'nan'}), confidence=0.6666666666666666, lift=1.0),\n   OrderedStatistic(items_base=frozenset({'Pizza'}), items_add=frozenset({'nan'}), confidence=0.6666666666666666, lift=1.0),\n   OrderedStatistic(items_base=frozenset({'nan'}), items_add=frozenset({'Pizza'}), confidence=1.0, lift=1.0)]]]"
     },
     "metadata": {},
     "execution_count": 13
    }
   ],
   "source": [
    "# Visializando resultado\n",
    "resultados1 = [list(x) for x in resultados]\n",
    "resultados1"
   ]
  },
  {
   "cell_type": "code",
   "execution_count": 14,
   "metadata": {},
   "outputs": [
    {
     "output_type": "execute_result",
     "data": {
      "text/plain": "[[[frozenset(), frozenset({'Cerveja'}), 0.6666666666666666, 1.0]],\n [[frozenset(), frozenset({'Pizza'}), 1.0, 1.0]],\n [[frozenset(), frozenset({'Sorvete'}), 0.5, 1.0]],\n [[frozenset(), frozenset({'nan'}), 0.6666666666666666, 1.0]],\n [[frozenset(), frozenset({'Cerveja', 'Pizza'}), 0.6666666666666666, 1.0],\n  [frozenset({'Cerveja'}), frozenset({'Pizza'}), 1.0, 1.0],\n  [frozenset({'Pizza'}), frozenset({'Cerveja'}), 0.6666666666666666, 1.0]],\n [[frozenset(), frozenset({'Pizza', 'Sorvete'}), 0.5, 1.0],\n  [frozenset({'Pizza'}), frozenset({'Sorvete'}), 0.5, 1.0],\n  [frozenset({'Sorvete'}), frozenset({'Pizza'}), 1.0, 1.0]],\n [[frozenset(), frozenset({'Pizza', 'nan'}), 0.6666666666666666, 1.0],\n  [frozenset({'Pizza'}), frozenset({'nan'}), 0.6666666666666666, 1.0],\n  [frozenset({'nan'}), frozenset({'Pizza'}), 1.0, 1.0]]]"
     },
     "metadata": {},
     "execution_count": 14
    }
   ],
   "source": [
    "# Visializando resultado\n",
    "resultados2 = []\n",
    "for j in range(0, 7):\n",
    "    resultados2.append([list(x) for x in resultados1[j][2]])\n",
    "\n",
    "resultados2"
   ]
  }
 ]
}