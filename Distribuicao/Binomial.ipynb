{
 "metadata": {
  "language_info": {
   "codemirror_mode": {
    "name": "ipython",
    "version": 3
   },
   "file_extension": ".py",
   "mimetype": "text/x-python",
   "name": "python",
   "nbconvert_exporter": "python",
   "pygments_lexer": "ipython3",
   "version": 3
  },
  "orig_nbformat": 2,
  "kernelspec": {
   "name": "python_defaultSpec_1596930487784",
   "display_name": "Python 3.7.3 64-bit ('venv': venv)"
  }
 },
 "nbformat": 4,
 "nbformat_minor": 2,
 "cells": [
  {
   "cell_type": "code",
   "execution_count": 1,
   "metadata": {},
   "outputs": [],
   "source": [
    "from scipy.stats import binom"
   ]
  },
  {
   "cell_type": "markdown",
   "metadata": {},
   "source": [
    "## Distribuição Binomial"
   ]
  },
  {
   "cell_type": "code",
   "execution_count": 4,
   "metadata": {},
   "outputs": [
    {
     "output_type": "execute_result",
     "data": {
      "text/plain": "0.3125"
     },
     "metadata": {},
     "execution_count": 4
    }
   ],
   "source": [
    "# Jogar uma moeda 5 vezes, qual a probabilidade de dar cara 3 vezes\n",
    "prob = binom.pmf(3, 5, 0.5)\n",
    "prob"
   ]
  },
  {
   "cell_type": "code",
   "execution_count": 8,
   "metadata": {
    "tags": []
   },
   "outputs": [
    {
     "output_type": "stream",
     "name": "stdout",
     "text": "0.31640625000000006\n0.4218750000000001\n0.21093750000000006\n0.046875000000000035\n0.003906250000000001\n"
    }
   ],
   "source": [
    "# Passar por um sinal de 4 tempos, qual a probabilidade de pegar o sinal verde 0, 1, 2, 3, 4 vezes\n",
    "print(binom.pmf(0, 4, 0.25))\n",
    "print(binom.pmf(1, 4, 0.25))\n",
    "print(binom.pmf(2, 4, 0.25))\n",
    "print(binom.pmf(3, 4, 0.25))\n",
    "print(binom.pmf(4, 4, 0.25))"
   ]
  },
  {
   "cell_type": "code",
   "execution_count": 9,
   "metadata": {},
   "outputs": [
    {
     "output_type": "execute_result",
     "data": {
      "text/plain": "1.0"
     },
     "metadata": {},
     "execution_count": 9
    }
   ],
   "source": [
    "# Probabilidade acumulativa\n",
    "binom.cdf(4, 4, 0.25)"
   ]
  },
  {
   "cell_type": "code",
   "execution_count": 10,
   "metadata": {},
   "outputs": [
    {
     "output_type": "execute_result",
     "data": {
      "text/plain": "0.011471271514892573"
     },
     "metadata": {},
     "execution_count": 10
    }
   ],
   "source": [
    "\n",
    "# Concurso com 12 questões, qual a probabilidade de acertar 7 questões, considerando que cada questão tem 4 alternativas\n",
    "binom.pmf(7, 12, 0.25)"
   ]
  }
 ]
}