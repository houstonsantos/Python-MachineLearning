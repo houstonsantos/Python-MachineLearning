{
 "metadata": {
  "language_info": {
   "codemirror_mode": {
    "name": "ipython",
    "version": 3
   },
   "file_extension": ".py",
   "mimetype": "text/x-python",
   "name": "python",
   "nbconvert_exporter": "python",
   "pygments_lexer": "ipython3",
   "version": 3
  },
  "orig_nbformat": 2,
  "kernelspec": {
   "name": "python_defaultSpec_1596854925296",
   "display_name": "Python 3.7.3 64-bit ('venv': venv)"
  }
 },
 "nbformat": 4,
 "nbformat_minor": 2,
 "cells": [
  {
   "cell_type": "code",
   "execution_count": 2,
   "metadata": {},
   "outputs": [],
   "source": [
    "import pandas as pd\n",
    "from keras.utils import np_utils\n",
    "from sklearn.compose import make_column_transformer\n",
    "from sklearn.preprocessing import LabelEncoder, OneHotEncoder\n",
    "from sklearn.preprocessing import StandardScaler, MinMaxScaler"
   ]
  },
  {
   "cell_type": "markdown",
   "metadata": {},
   "source": [
    "## Categorical Encoding"
   ]
  },
  {
   "cell_type": "code",
   "execution_count": 3,
   "metadata": {},
   "outputs": [],
   "source": [
    "# Importando base de dataset\n",
    "dataset = pd.read_csv('../Dados/Credit.csv')"
   ]
  },
  {
   "cell_type": "code",
   "execution_count": 5,
   "metadata": {},
   "outputs": [
    {
     "output_type": "execute_result",
     "data": {
      "text/plain": "  checking_status  duration                    credit_history  \\\n0              <0         6  'critical/other existing credit'   \n1        0<=X<200        48                   'existing paid'   \n2   'no checking'        12  'critical/other existing credit'   \n3              <0        42                   'existing paid'   \n4              <0        24              'delayed previously'   \n\n               purpose  credit_amount      savings_status employment  \\\n0             radio/tv           1169  'no known savings'        >=7   \n1             radio/tv           5951                <100     1<=X<4   \n2            education           2096                <100     4<=X<7   \n3  furniture/equipment           7882                <100     4<=X<7   \n4            'new car'           4870                <100     1<=X<4   \n\n   installment_commitment       personal_status other_parties  ...  \\\n0                       4         'male single'          none  ...   \n1                       2  'female div/dep/mar'          none  ...   \n2                       2         'male single'          none  ...   \n3                       2         'male single'     guarantor  ...   \n4                       3         'male single'          none  ...   \n\n    property_magnitude age  other_payment_plans     housing existing_credits  \\\n0        'real estate'  67                 none         own                2   \n1        'real estate'  22                 none         own                1   \n2        'real estate'  49                 none         own                1   \n3     'life insurance'  45                 none  'for free'                1   \n4  'no known property'  53                 none  'for free'                2   \n\n                    job num_dependents  own_telephone foreign_worker class  \n0               skilled              1            yes            yes  good  \n1               skilled              1           none            yes   bad  \n2  'unskilled resident'              2           none            yes  good  \n3               skilled              2           none            yes  good  \n4               skilled              2           none            yes   bad  \n\n[5 rows x 21 columns]",
      "text/html": "<div>\n<style scoped>\n    .dataframe tbody tr th:only-of-type {\n        vertical-align: middle;\n    }\n\n    .dataframe tbody tr th {\n        vertical-align: top;\n    }\n\n    .dataframe thead th {\n        text-align: right;\n    }\n</style>\n<table border=\"1\" class=\"dataframe\">\n  <thead>\n    <tr style=\"text-align: right;\">\n      <th></th>\n      <th>checking_status</th>\n      <th>duration</th>\n      <th>credit_history</th>\n      <th>purpose</th>\n      <th>credit_amount</th>\n      <th>savings_status</th>\n      <th>employment</th>\n      <th>installment_commitment</th>\n      <th>personal_status</th>\n      <th>other_parties</th>\n      <th>...</th>\n      <th>property_magnitude</th>\n      <th>age</th>\n      <th>other_payment_plans</th>\n      <th>housing</th>\n      <th>existing_credits</th>\n      <th>job</th>\n      <th>num_dependents</th>\n      <th>own_telephone</th>\n      <th>foreign_worker</th>\n      <th>class</th>\n    </tr>\n  </thead>\n  <tbody>\n    <tr>\n      <th>0</th>\n      <td>&lt;0</td>\n      <td>6</td>\n      <td>'critical/other existing credit'</td>\n      <td>radio/tv</td>\n      <td>1169</td>\n      <td>'no known savings'</td>\n      <td>&gt;=7</td>\n      <td>4</td>\n      <td>'male single'</td>\n      <td>none</td>\n      <td>...</td>\n      <td>'real estate'</td>\n      <td>67</td>\n      <td>none</td>\n      <td>own</td>\n      <td>2</td>\n      <td>skilled</td>\n      <td>1</td>\n      <td>yes</td>\n      <td>yes</td>\n      <td>good</td>\n    </tr>\n    <tr>\n      <th>1</th>\n      <td>0&lt;=X&lt;200</td>\n      <td>48</td>\n      <td>'existing paid'</td>\n      <td>radio/tv</td>\n      <td>5951</td>\n      <td>&lt;100</td>\n      <td>1&lt;=X&lt;4</td>\n      <td>2</td>\n      <td>'female div/dep/mar'</td>\n      <td>none</td>\n      <td>...</td>\n      <td>'real estate'</td>\n      <td>22</td>\n      <td>none</td>\n      <td>own</td>\n      <td>1</td>\n      <td>skilled</td>\n      <td>1</td>\n      <td>none</td>\n      <td>yes</td>\n      <td>bad</td>\n    </tr>\n    <tr>\n      <th>2</th>\n      <td>'no checking'</td>\n      <td>12</td>\n      <td>'critical/other existing credit'</td>\n      <td>education</td>\n      <td>2096</td>\n      <td>&lt;100</td>\n      <td>4&lt;=X&lt;7</td>\n      <td>2</td>\n      <td>'male single'</td>\n      <td>none</td>\n      <td>...</td>\n      <td>'real estate'</td>\n      <td>49</td>\n      <td>none</td>\n      <td>own</td>\n      <td>1</td>\n      <td>'unskilled resident'</td>\n      <td>2</td>\n      <td>none</td>\n      <td>yes</td>\n      <td>good</td>\n    </tr>\n    <tr>\n      <th>3</th>\n      <td>&lt;0</td>\n      <td>42</td>\n      <td>'existing paid'</td>\n      <td>furniture/equipment</td>\n      <td>7882</td>\n      <td>&lt;100</td>\n      <td>4&lt;=X&lt;7</td>\n      <td>2</td>\n      <td>'male single'</td>\n      <td>guarantor</td>\n      <td>...</td>\n      <td>'life insurance'</td>\n      <td>45</td>\n      <td>none</td>\n      <td>'for free'</td>\n      <td>1</td>\n      <td>skilled</td>\n      <td>2</td>\n      <td>none</td>\n      <td>yes</td>\n      <td>good</td>\n    </tr>\n    <tr>\n      <th>4</th>\n      <td>&lt;0</td>\n      <td>24</td>\n      <td>'delayed previously'</td>\n      <td>'new car'</td>\n      <td>4870</td>\n      <td>&lt;100</td>\n      <td>1&lt;=X&lt;4</td>\n      <td>3</td>\n      <td>'male single'</td>\n      <td>none</td>\n      <td>...</td>\n      <td>'no known property'</td>\n      <td>53</td>\n      <td>none</td>\n      <td>'for free'</td>\n      <td>2</td>\n      <td>skilled</td>\n      <td>2</td>\n      <td>none</td>\n      <td>yes</td>\n      <td>bad</td>\n    </tr>\n  </tbody>\n</table>\n<p>5 rows × 21 columns</p>\n</div>"
     },
     "metadata": {},
     "execution_count": 5
    }
   ],
   "source": [
    "dataset.head()"
   ]
  },
  {
   "cell_type": "code",
   "execution_count": 4,
   "metadata": {
    "tags": []
   },
   "outputs": [
    {
     "output_type": "stream",
     "name": "stdout",
     "text": "[[\"'male single'\" 'none']\n [\"'female div/dep/mar'\" 'none']\n [\"'male single'\" 'none']\n ...\n [\"'male single'\" 'none']\n [\"'male single'\" 'none']\n [\"'male single'\" 'none']]\n"
    }
   ],
   "source": [
    "# Separando features para exemplo\n",
    "X = dataset.iloc[:, 8:10].values\n",
    "print(X)"
   ]
  },
  {
   "cell_type": "code",
   "execution_count": 5,
   "metadata": {
    "tags": []
   },
   "outputs": [
    {
     "output_type": "stream",
     "name": "stdout",
     "text": "[[3 'none']\n [0 'none']\n [3 'none']\n ...\n [3 'none']\n [3 'none']\n [3 'none']]\n"
    }
   ],
   "source": [
    "# Label Encoding\n",
    "labelencoder = LabelEncoder()\n",
    "X[:, 0] = labelencoder.fit_transform(X[:, 0])\n",
    "print(X)"
   ]
  },
  {
   "cell_type": "code",
   "execution_count": 6,
   "metadata": {},
   "outputs": [
    {
     "output_type": "execute_result",
     "data": {
      "text/plain": "array([[0.0, 0.0, 1.0, 3],\n       [0.0, 0.0, 1.0, 0],\n       [0.0, 0.0, 1.0, 3],\n       ...,\n       [0.0, 0.0, 1.0, 3],\n       [0.0, 0.0, 1.0, 3],\n       [0.0, 0.0, 1.0, 3]], dtype=object)"
     },
     "metadata": {},
     "execution_count": 6
    }
   ],
   "source": [
    "# One-Hot Encoding - usando Sklearn\n",
    "onehotenconder = make_column_transformer((OneHotEncoder(categories = 'auto', sparse = False), [1]), remainder = 'passthrough')\n",
    "X = onehotenconder.fit_transform(X)\n",
    "X"
   ]
  },
  {
   "cell_type": "code",
   "execution_count": 4,
   "metadata": {},
   "outputs": [
    {
     "output_type": "execute_result",
     "data": {
      "text/plain": "     duration                    credit_history              purpose  \\\n0           6  'critical/other existing credit'             radio/tv   \n1          48                   'existing paid'             radio/tv   \n2          12  'critical/other existing credit'            education   \n3          42                   'existing paid'  furniture/equipment   \n4          24              'delayed previously'            'new car'   \n..        ...                               ...                  ...   \n995        12                   'existing paid'  furniture/equipment   \n996        30                   'existing paid'           'used car'   \n997        12                   'existing paid'             radio/tv   \n998        45                   'existing paid'             radio/tv   \n999        45  'critical/other existing credit'           'used car'   \n\n     credit_amount      savings_status  employment  installment_commitment  \\\n0             1169  'no known savings'         >=7                       4   \n1             5951                <100      1<=X<4                       2   \n2             2096                <100      4<=X<7                       2   \n3             7882                <100      4<=X<7                       2   \n4             4870                <100      1<=X<4                       3   \n..             ...                 ...         ...                     ...   \n995           1736                <100      4<=X<7                       3   \n996           3857                <100      1<=X<4                       4   \n997            804                <100         >=7                       4   \n998           1845                <100      1<=X<4                       4   \n999           4576          100<=X<500  unemployed                       3   \n\n          personal_status other_parties  residence_since  ...  \\\n0           'male single'          none                4  ...   \n1    'female div/dep/mar'          none                2  ...   \n2           'male single'          none                3  ...   \n3           'male single'     guarantor                4  ...   \n4           'male single'          none                4  ...   \n..                    ...           ...              ...  ...   \n995  'female div/dep/mar'          none                4  ...   \n996        'male div/sep'          none                4  ...   \n997         'male single'          none                4  ...   \n998         'male single'          none                4  ...   \n999         'male single'          none                4  ...   \n\n    existing_credits                          job num_dependents  \\\n0                  2                      skilled              1   \n1                  1                      skilled              1   \n2                  1         'unskilled resident'              2   \n3                  1                      skilled              2   \n4                  2                      skilled              2   \n..               ...                          ...            ...   \n995                1         'unskilled resident'              1   \n996                1  'high qualif/self emp/mgmt'              1   \n997                1                      skilled              1   \n998                1                      skilled              1   \n999                1                      skilled              1   \n\n    own_telephone  foreign_worker class  checking_status_'no checking'  \\\n0             yes             yes  good                              0   \n1            none             yes   bad                              0   \n2            none             yes  good                              1   \n3            none             yes  good                              0   \n4            none             yes   bad                              0   \n..            ...             ...   ...                            ...   \n995          none             yes  good                              1   \n996           yes             yes  good                              0   \n997          none             yes  good                              1   \n998           yes             yes   bad                              0   \n999          none             yes  good                              0   \n\n    checking_status_0<=X<200 checking_status_<0 checking_status_>=200  \n0                          0                  1                     0  \n1                          1                  0                     0  \n2                          0                  0                     0  \n3                          0                  1                     0  \n4                          0                  1                     0  \n..                       ...                ...                   ...  \n995                        0                  0                     0  \n996                        0                  1                     0  \n997                        0                  0                     0  \n998                        0                  1                     0  \n999                        1                  0                     0  \n\n[1000 rows x 24 columns]",
      "text/html": "<div>\n<style scoped>\n    .dataframe tbody tr th:only-of-type {\n        vertical-align: middle;\n    }\n\n    .dataframe tbody tr th {\n        vertical-align: top;\n    }\n\n    .dataframe thead th {\n        text-align: right;\n    }\n</style>\n<table border=\"1\" class=\"dataframe\">\n  <thead>\n    <tr style=\"text-align: right;\">\n      <th></th>\n      <th>duration</th>\n      <th>credit_history</th>\n      <th>purpose</th>\n      <th>credit_amount</th>\n      <th>savings_status</th>\n      <th>employment</th>\n      <th>installment_commitment</th>\n      <th>personal_status</th>\n      <th>other_parties</th>\n      <th>residence_since</th>\n      <th>...</th>\n      <th>existing_credits</th>\n      <th>job</th>\n      <th>num_dependents</th>\n      <th>own_telephone</th>\n      <th>foreign_worker</th>\n      <th>class</th>\n      <th>checking_status_'no checking'</th>\n      <th>checking_status_0&lt;=X&lt;200</th>\n      <th>checking_status_&lt;0</th>\n      <th>checking_status_&gt;=200</th>\n    </tr>\n  </thead>\n  <tbody>\n    <tr>\n      <th>0</th>\n      <td>6</td>\n      <td>'critical/other existing credit'</td>\n      <td>radio/tv</td>\n      <td>1169</td>\n      <td>'no known savings'</td>\n      <td>&gt;=7</td>\n      <td>4</td>\n      <td>'male single'</td>\n      <td>none</td>\n      <td>4</td>\n      <td>...</td>\n      <td>2</td>\n      <td>skilled</td>\n      <td>1</td>\n      <td>yes</td>\n      <td>yes</td>\n      <td>good</td>\n      <td>0</td>\n      <td>0</td>\n      <td>1</td>\n      <td>0</td>\n    </tr>\n    <tr>\n      <th>1</th>\n      <td>48</td>\n      <td>'existing paid'</td>\n      <td>radio/tv</td>\n      <td>5951</td>\n      <td>&lt;100</td>\n      <td>1&lt;=X&lt;4</td>\n      <td>2</td>\n      <td>'female div/dep/mar'</td>\n      <td>none</td>\n      <td>2</td>\n      <td>...</td>\n      <td>1</td>\n      <td>skilled</td>\n      <td>1</td>\n      <td>none</td>\n      <td>yes</td>\n      <td>bad</td>\n      <td>0</td>\n      <td>1</td>\n      <td>0</td>\n      <td>0</td>\n    </tr>\n    <tr>\n      <th>2</th>\n      <td>12</td>\n      <td>'critical/other existing credit'</td>\n      <td>education</td>\n      <td>2096</td>\n      <td>&lt;100</td>\n      <td>4&lt;=X&lt;7</td>\n      <td>2</td>\n      <td>'male single'</td>\n      <td>none</td>\n      <td>3</td>\n      <td>...</td>\n      <td>1</td>\n      <td>'unskilled resident'</td>\n      <td>2</td>\n      <td>none</td>\n      <td>yes</td>\n      <td>good</td>\n      <td>1</td>\n      <td>0</td>\n      <td>0</td>\n      <td>0</td>\n    </tr>\n    <tr>\n      <th>3</th>\n      <td>42</td>\n      <td>'existing paid'</td>\n      <td>furniture/equipment</td>\n      <td>7882</td>\n      <td>&lt;100</td>\n      <td>4&lt;=X&lt;7</td>\n      <td>2</td>\n      <td>'male single'</td>\n      <td>guarantor</td>\n      <td>4</td>\n      <td>...</td>\n      <td>1</td>\n      <td>skilled</td>\n      <td>2</td>\n      <td>none</td>\n      <td>yes</td>\n      <td>good</td>\n      <td>0</td>\n      <td>0</td>\n      <td>1</td>\n      <td>0</td>\n    </tr>\n    <tr>\n      <th>4</th>\n      <td>24</td>\n      <td>'delayed previously'</td>\n      <td>'new car'</td>\n      <td>4870</td>\n      <td>&lt;100</td>\n      <td>1&lt;=X&lt;4</td>\n      <td>3</td>\n      <td>'male single'</td>\n      <td>none</td>\n      <td>4</td>\n      <td>...</td>\n      <td>2</td>\n      <td>skilled</td>\n      <td>2</td>\n      <td>none</td>\n      <td>yes</td>\n      <td>bad</td>\n      <td>0</td>\n      <td>0</td>\n      <td>1</td>\n      <td>0</td>\n    </tr>\n    <tr>\n      <th>...</th>\n      <td>...</td>\n      <td>...</td>\n      <td>...</td>\n      <td>...</td>\n      <td>...</td>\n      <td>...</td>\n      <td>...</td>\n      <td>...</td>\n      <td>...</td>\n      <td>...</td>\n      <td>...</td>\n      <td>...</td>\n      <td>...</td>\n      <td>...</td>\n      <td>...</td>\n      <td>...</td>\n      <td>...</td>\n      <td>...</td>\n      <td>...</td>\n      <td>...</td>\n      <td>...</td>\n    </tr>\n    <tr>\n      <th>995</th>\n      <td>12</td>\n      <td>'existing paid'</td>\n      <td>furniture/equipment</td>\n      <td>1736</td>\n      <td>&lt;100</td>\n      <td>4&lt;=X&lt;7</td>\n      <td>3</td>\n      <td>'female div/dep/mar'</td>\n      <td>none</td>\n      <td>4</td>\n      <td>...</td>\n      <td>1</td>\n      <td>'unskilled resident'</td>\n      <td>1</td>\n      <td>none</td>\n      <td>yes</td>\n      <td>good</td>\n      <td>1</td>\n      <td>0</td>\n      <td>0</td>\n      <td>0</td>\n    </tr>\n    <tr>\n      <th>996</th>\n      <td>30</td>\n      <td>'existing paid'</td>\n      <td>'used car'</td>\n      <td>3857</td>\n      <td>&lt;100</td>\n      <td>1&lt;=X&lt;4</td>\n      <td>4</td>\n      <td>'male div/sep'</td>\n      <td>none</td>\n      <td>4</td>\n      <td>...</td>\n      <td>1</td>\n      <td>'high qualif/self emp/mgmt'</td>\n      <td>1</td>\n      <td>yes</td>\n      <td>yes</td>\n      <td>good</td>\n      <td>0</td>\n      <td>0</td>\n      <td>1</td>\n      <td>0</td>\n    </tr>\n    <tr>\n      <th>997</th>\n      <td>12</td>\n      <td>'existing paid'</td>\n      <td>radio/tv</td>\n      <td>804</td>\n      <td>&lt;100</td>\n      <td>&gt;=7</td>\n      <td>4</td>\n      <td>'male single'</td>\n      <td>none</td>\n      <td>4</td>\n      <td>...</td>\n      <td>1</td>\n      <td>skilled</td>\n      <td>1</td>\n      <td>none</td>\n      <td>yes</td>\n      <td>good</td>\n      <td>1</td>\n      <td>0</td>\n      <td>0</td>\n      <td>0</td>\n    </tr>\n    <tr>\n      <th>998</th>\n      <td>45</td>\n      <td>'existing paid'</td>\n      <td>radio/tv</td>\n      <td>1845</td>\n      <td>&lt;100</td>\n      <td>1&lt;=X&lt;4</td>\n      <td>4</td>\n      <td>'male single'</td>\n      <td>none</td>\n      <td>4</td>\n      <td>...</td>\n      <td>1</td>\n      <td>skilled</td>\n      <td>1</td>\n      <td>yes</td>\n      <td>yes</td>\n      <td>bad</td>\n      <td>0</td>\n      <td>0</td>\n      <td>1</td>\n      <td>0</td>\n    </tr>\n    <tr>\n      <th>999</th>\n      <td>45</td>\n      <td>'critical/other existing credit'</td>\n      <td>'used car'</td>\n      <td>4576</td>\n      <td>100&lt;=X&lt;500</td>\n      <td>unemployed</td>\n      <td>3</td>\n      <td>'male single'</td>\n      <td>none</td>\n      <td>4</td>\n      <td>...</td>\n      <td>1</td>\n      <td>skilled</td>\n      <td>1</td>\n      <td>none</td>\n      <td>yes</td>\n      <td>good</td>\n      <td>0</td>\n      <td>1</td>\n      <td>0</td>\n      <td>0</td>\n    </tr>\n  </tbody>\n</table>\n<p>1000 rows × 24 columns</p>\n</div>"
     },
     "metadata": {},
     "execution_count": 4
    }
   ],
   "source": [
    "# One-Hot Encoding - usando Pandas\n",
    "X = pd.get_dummies(data = dataset, columns = ['checking_status'])\n",
    "X"
   ]
  },
  {
   "cell_type": "code",
   "execution_count": 6,
   "metadata": {},
   "outputs": [],
   "source": [
    "# One-Hot Encoding - usando Keras - NÃO TESTADO\n",
    "X = np_utils.to_categorical()"
   ]
  }
 ]
}