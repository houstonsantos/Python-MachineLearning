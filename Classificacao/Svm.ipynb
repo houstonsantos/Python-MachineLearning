{
 "metadata": {
  "language_info": {
   "codemirror_mode": {
    "name": "ipython",
    "version": 3
   },
   "file_extension": ".py",
   "mimetype": "text/x-python",
   "name": "python",
   "nbconvert_exporter": "python",
   "pygments_lexer": "ipython3",
   "version": 3
  },
  "orig_nbformat": 2,
  "kernelspec": {
   "name": "python_defaultSpec_1597007062694",
   "display_name": "Python 3.7.3 64-bit ('venv': venv)"
  }
 },
 "nbformat": 4,
 "nbformat_minor": 2,
 "cells": [
  {
   "cell_type": "code",
   "execution_count": 1,
   "metadata": {},
   "outputs": [],
   "source": [
    "import pandas as pd\n",
    "from sklearn.svm import SVC\n",
    "from sklearn.preprocessing import LabelEncoder\n",
    "from sklearn.model_selection import train_test_split\n",
    "from sklearn.metrics import confusion_matrix, accuracy_score"
   ]
  },
  {
   "cell_type": "markdown",
   "metadata": {},
   "source": [
    "## SVM"
   ]
  },
  {
   "cell_type": "code",
   "execution_count": 2,
   "metadata": {},
   "outputs": [
    {
     "output_type": "execute_result",
     "data": {
      "text/plain": "  checking_status  duration                    credit_history  \\\n0              <0         6  'critical/other existing credit'   \n1        0<=X<200        48                   'existing paid'   \n2   'no checking'        12  'critical/other existing credit'   \n3              <0        42                   'existing paid'   \n4              <0        24              'delayed previously'   \n\n               purpose  credit_amount      savings_status employment  \\\n0             radio/tv           1169  'no known savings'        >=7   \n1             radio/tv           5951                <100     1<=X<4   \n2            education           2096                <100     4<=X<7   \n3  furniture/equipment           7882                <100     4<=X<7   \n4            'new car'           4870                <100     1<=X<4   \n\n   installment_commitment       personal_status other_parties  ...  \\\n0                       4         'male single'          none  ...   \n1                       2  'female div/dep/mar'          none  ...   \n2                       2         'male single'          none  ...   \n3                       2         'male single'     guarantor  ...   \n4                       3         'male single'          none  ...   \n\n    property_magnitude age  other_payment_plans     housing existing_credits  \\\n0        'real estate'  67                 none         own                2   \n1        'real estate'  22                 none         own                1   \n2        'real estate'  49                 none         own                1   \n3     'life insurance'  45                 none  'for free'                1   \n4  'no known property'  53                 none  'for free'                2   \n\n                    job num_dependents  own_telephone foreign_worker class  \n0               skilled              1            yes            yes  good  \n1               skilled              1           none            yes   bad  \n2  'unskilled resident'              2           none            yes  good  \n3               skilled              2           none            yes  good  \n4               skilled              2           none            yes   bad  \n\n[5 rows x 21 columns]",
      "text/html": "<div>\n<style scoped>\n    .dataframe tbody tr th:only-of-type {\n        vertical-align: middle;\n    }\n\n    .dataframe tbody tr th {\n        vertical-align: top;\n    }\n\n    .dataframe thead th {\n        text-align: right;\n    }\n</style>\n<table border=\"1\" class=\"dataframe\">\n  <thead>\n    <tr style=\"text-align: right;\">\n      <th></th>\n      <th>checking_status</th>\n      <th>duration</th>\n      <th>credit_history</th>\n      <th>purpose</th>\n      <th>credit_amount</th>\n      <th>savings_status</th>\n      <th>employment</th>\n      <th>installment_commitment</th>\n      <th>personal_status</th>\n      <th>other_parties</th>\n      <th>...</th>\n      <th>property_magnitude</th>\n      <th>age</th>\n      <th>other_payment_plans</th>\n      <th>housing</th>\n      <th>existing_credits</th>\n      <th>job</th>\n      <th>num_dependents</th>\n      <th>own_telephone</th>\n      <th>foreign_worker</th>\n      <th>class</th>\n    </tr>\n  </thead>\n  <tbody>\n    <tr>\n      <th>0</th>\n      <td>&lt;0</td>\n      <td>6</td>\n      <td>'critical/other existing credit'</td>\n      <td>radio/tv</td>\n      <td>1169</td>\n      <td>'no known savings'</td>\n      <td>&gt;=7</td>\n      <td>4</td>\n      <td>'male single'</td>\n      <td>none</td>\n      <td>...</td>\n      <td>'real estate'</td>\n      <td>67</td>\n      <td>none</td>\n      <td>own</td>\n      <td>2</td>\n      <td>skilled</td>\n      <td>1</td>\n      <td>yes</td>\n      <td>yes</td>\n      <td>good</td>\n    </tr>\n    <tr>\n      <th>1</th>\n      <td>0&lt;=X&lt;200</td>\n      <td>48</td>\n      <td>'existing paid'</td>\n      <td>radio/tv</td>\n      <td>5951</td>\n      <td>&lt;100</td>\n      <td>1&lt;=X&lt;4</td>\n      <td>2</td>\n      <td>'female div/dep/mar'</td>\n      <td>none</td>\n      <td>...</td>\n      <td>'real estate'</td>\n      <td>22</td>\n      <td>none</td>\n      <td>own</td>\n      <td>1</td>\n      <td>skilled</td>\n      <td>1</td>\n      <td>none</td>\n      <td>yes</td>\n      <td>bad</td>\n    </tr>\n    <tr>\n      <th>2</th>\n      <td>'no checking'</td>\n      <td>12</td>\n      <td>'critical/other existing credit'</td>\n      <td>education</td>\n      <td>2096</td>\n      <td>&lt;100</td>\n      <td>4&lt;=X&lt;7</td>\n      <td>2</td>\n      <td>'male single'</td>\n      <td>none</td>\n      <td>...</td>\n      <td>'real estate'</td>\n      <td>49</td>\n      <td>none</td>\n      <td>own</td>\n      <td>1</td>\n      <td>'unskilled resident'</td>\n      <td>2</td>\n      <td>none</td>\n      <td>yes</td>\n      <td>good</td>\n    </tr>\n    <tr>\n      <th>3</th>\n      <td>&lt;0</td>\n      <td>42</td>\n      <td>'existing paid'</td>\n      <td>furniture/equipment</td>\n      <td>7882</td>\n      <td>&lt;100</td>\n      <td>4&lt;=X&lt;7</td>\n      <td>2</td>\n      <td>'male single'</td>\n      <td>guarantor</td>\n      <td>...</td>\n      <td>'life insurance'</td>\n      <td>45</td>\n      <td>none</td>\n      <td>'for free'</td>\n      <td>1</td>\n      <td>skilled</td>\n      <td>2</td>\n      <td>none</td>\n      <td>yes</td>\n      <td>good</td>\n    </tr>\n    <tr>\n      <th>4</th>\n      <td>&lt;0</td>\n      <td>24</td>\n      <td>'delayed previously'</td>\n      <td>'new car'</td>\n      <td>4870</td>\n      <td>&lt;100</td>\n      <td>1&lt;=X&lt;4</td>\n      <td>3</td>\n      <td>'male single'</td>\n      <td>none</td>\n      <td>...</td>\n      <td>'no known property'</td>\n      <td>53</td>\n      <td>none</td>\n      <td>'for free'</td>\n      <td>2</td>\n      <td>skilled</td>\n      <td>2</td>\n      <td>none</td>\n      <td>yes</td>\n      <td>bad</td>\n    </tr>\n  </tbody>\n</table>\n<p>5 rows × 21 columns</p>\n</div>"
     },
     "metadata": {},
     "execution_count": 2
    }
   ],
   "source": [
    "# Importando base de dados\n",
    "credito = pd.read_csv('../Dados/Credit.csv')\n",
    "credito.head()"
   ]
  },
  {
   "cell_type": "code",
   "execution_count": null,
   "metadata": {},
   "outputs": [],
   "source": [
    "# Separando dados e classe (Feature, Target)\n",
    "preditos = credito.iloc[:, 0:20].values\n",
    "classe = credito.iloc[:, 20].values"
   ]
  },
  {
   "cell_type": "code",
   "execution_count": 4,
   "metadata": {},
   "outputs": [],
   "source": [
    "# Convertendo valores categóricos em numéricos\n",
    "label_enconder = LabelEncoder()\n",
    "preditos[:, 0] = label_enconder.fit_transform(preditos[:, 0])\n",
    "preditos[:, 2] = label_enconder.fit_transform(preditos[:, 2])\n",
    "preditos[:, 3] = label_enconder.fit_transform(preditos[:, 3])\n",
    "preditos[:, 5] = label_enconder.fit_transform(preditos[:, 5])\n",
    "preditos[:, 6] = label_enconder.fit_transform(preditos[:, 6])\n",
    "preditos[:, 8] = label_enconder.fit_transform(preditos[:, 8])\n",
    "preditos[:, 9] = label_enconder.fit_transform(preditos[:, 9])\n",
    "preditos[:, 11] = label_enconder.fit_transform(preditos[:, 11])\n",
    "preditos[:, 13] = label_enconder.fit_transform(preditos[:, 13])\n",
    "preditos[:, 14] = label_enconder.fit_transform(preditos[:, 14])\n",
    "preditos[:, 16] = label_enconder.fit_transform(preditos[:, 16])\n",
    "preditos[:, 18] = label_enconder.fit_transform(preditos[:, 18])\n",
    "preditos[:, 19] = label_enconder.fit_transform(preditos[:, 19])\n",
    "\n",
    "# Dividindo base entre treino e teste\n",
    "X_training, X_test, y_training, y_test = train_test_split(preditos, classe, test_size = 0.3, random_state = 0)"
   ]
  },
  {
   "cell_type": "code",
   "execution_count": 5,
   "metadata": {},
   "outputs": [
    {
     "output_type": "execute_result",
     "data": {
      "text/plain": "SVC()"
     },
     "metadata": {},
     "execution_count": 5
    }
   ],
   "source": [
    "# Criando modelo de treinamento e teste\n",
    "svm = SVC()\n",
    "svm.fit(X_training, y_training)"
   ]
  },
  {
   "cell_type": "code",
   "execution_count": 6,
   "metadata": {},
   "outputs": [
    {
     "output_type": "execute_result",
     "data": {
      "text/plain": "array(['good', 'good', 'good', 'good', 'good', 'good', 'good', 'good',\n       'good', 'good', 'good', 'good', 'good', 'good', 'good', 'good',\n       'good', 'good', 'good', 'good', 'good', 'good', 'good', 'good',\n       'good', 'good', 'good', 'good', 'good', 'good', 'good', 'good',\n       'good', 'good', 'good', 'bad', 'good', 'good', 'good', 'good',\n       'good', 'good', 'good', 'good', 'good', 'good', 'good', 'good',\n       'good', 'good', 'good', 'good', 'good', 'good', 'good', 'good',\n       'bad', 'good', 'good', 'good', 'good', 'good', 'good', 'good',\n       'good', 'good', 'good', 'good', 'good', 'good', 'good', 'good',\n       'good', 'good', 'good', 'good', 'good', 'good', 'good', 'good',\n       'good', 'good', 'good', 'good', 'good', 'good', 'bad', 'good',\n       'good', 'good', 'good', 'good', 'good', 'good', 'good', 'good',\n       'good', 'good', 'good', 'good', 'good', 'good', 'good', 'good',\n       'good', 'good', 'good', 'good', 'good', 'good', 'good', 'good',\n       'good', 'good', 'good', 'good', 'good', 'good', 'good', 'good',\n       'good', 'good', 'good', 'good', 'good', 'good', 'good', 'good',\n       'good', 'good', 'good', 'good', 'good', 'good', 'good', 'good',\n       'good', 'good', 'good', 'good', 'good', 'bad', 'good', 'good',\n       'good', 'good', 'good', 'bad', 'good', 'good', 'good', 'good',\n       'good', 'good', 'good', 'good', 'good', 'good', 'good', 'good',\n       'good', 'good', 'good', 'good', 'good', 'bad', 'good', 'good',\n       'good', 'good', 'good', 'good', 'good', 'good', 'good', 'good',\n       'good', 'good', 'good', 'good', 'good', 'good', 'good', 'good',\n       'good', 'good', 'good', 'good', 'good', 'good', 'good', 'bad',\n       'good', 'good', 'good', 'good', 'good', 'good', 'good', 'good',\n       'good', 'good', 'good', 'good', 'good', 'good', 'good', 'good',\n       'good', 'good', 'good', 'good', 'good', 'good', 'good', 'good',\n       'good', 'good', 'good', 'good', 'good', 'good', 'good', 'good',\n       'good', 'good', 'good', 'good', 'bad', 'good', 'good', 'good',\n       'good', 'good', 'good', 'good', 'good', 'good', 'good', 'good',\n       'good', 'good', 'good', 'good', 'good', 'good', 'good', 'good',\n       'good', 'good', 'good', 'good', 'good', 'good', 'good', 'good',\n       'good', 'good', 'good', 'good', 'good', 'good', 'good', 'good',\n       'bad', 'good', 'good', 'good', 'good', 'good', 'good', 'good',\n       'good', 'good', 'good', 'good', 'good', 'good', 'good', 'good',\n       'good', 'good', 'good', 'good', 'good', 'good', 'good', 'good',\n       'good', 'good', 'good', 'good', 'good', 'good', 'good', 'good',\n       'good', 'good', 'good', 'good'], dtype=object)"
     },
     "metadata": {},
     "execution_count": 6
    }
   ],
   "source": [
    "# Testando modelo\n",
    "previsoes = svm.predict(X_test)\n",
    "previsoes"
   ]
  },
  {
   "cell_type": "code",
   "execution_count": 7,
   "metadata": {},
   "outputs": [
    {
     "output_type": "execute_result",
     "data": {
      "text/plain": "0.7166666666666667"
     },
     "metadata": {},
     "execution_count": 7
    }
   ],
   "source": [
    "# Verificando taxa de acerto\n",
    "taxa_acerto = accuracy_score(y_test, previsoes)\n",
    "taxa_acerto\n"
   ]
  },
  {
   "cell_type": "code",
   "execution_count": 8,
   "metadata": {},
   "outputs": [
    {
     "output_type": "execute_result",
     "data": {
      "text/plain": "0.2833333333333333"
     },
     "metadata": {},
     "execution_count": 8
    }
   ],
   "source": [
    "# Verificando taxa de erro\n",
    "taxa_erro = 1 - taxa_acerto\n",
    "taxa_erro"
   ]
  }
 ]
}