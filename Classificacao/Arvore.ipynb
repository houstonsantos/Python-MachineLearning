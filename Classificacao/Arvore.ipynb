{
 "metadata": {
  "language_info": {
   "codemirror_mode": {
    "name": "ipython",
    "version": 3
   },
   "file_extension": ".py",
   "mimetype": "text/x-python",
   "name": "python",
   "nbconvert_exporter": "python",
   "pygments_lexer": "ipython3",
   "version": "3.8.2-final"
  },
  "orig_nbformat": 2,
  "kernelspec": {
   "name": "python_defaultSpec_1597929670191",
   "display_name": "Python 3.7.3 64-bit ('venv': venv)"
  }
 },
 "nbformat": 4,
 "nbformat_minor": 2,
 "cells": [
  {
   "cell_type": "code",
   "execution_count": 1,
   "metadata": {},
   "outputs": [],
   "source": [
    "import pandas as pd\n",
    "import graphviz\n",
    "from sklearn.tree import export_graphviz\n",
    "from sklearn.preprocessing import LabelEncoder\n",
    "from sklearn.tree import DecisionTreeClassifier\n",
    "from sklearn.model_selection import train_test_split\n",
    "from sklearn.metrics import confusion_matrix, accuracy_score"
   ]
  },
  {
   "cell_type": "markdown",
   "metadata": {},
   "source": [
    "## Ávore de decissão"
   ]
  },
  {
   "cell_type": "code",
   "execution_count": 2,
   "metadata": {},
   "outputs": [
    {
     "output_type": "execute_result",
     "data": {
      "text/plain": "  checking_status  duration                    credit_history  \\\n0              <0         6  'critical/other existing credit'   \n1        0<=X<200        48                   'existing paid'   \n2   'no checking'        12  'critical/other existing credit'   \n3              <0        42                   'existing paid'   \n4              <0        24              'delayed previously'   \n\n               purpose  credit_amount      savings_status employment  \\\n0             radio/tv           1169  'no known savings'        >=7   \n1             radio/tv           5951                <100     1<=X<4   \n2            education           2096                <100     4<=X<7   \n3  furniture/equipment           7882                <100     4<=X<7   \n4            'new car'           4870                <100     1<=X<4   \n\n   installment_commitment       personal_status other_parties  ...  \\\n0                       4         'male single'          none  ...   \n1                       2  'female div/dep/mar'          none  ...   \n2                       2         'male single'          none  ...   \n3                       2         'male single'     guarantor  ...   \n4                       3         'male single'          none  ...   \n\n    property_magnitude age  other_payment_plans     housing existing_credits  \\\n0        'real estate'  67                 none         own                2   \n1        'real estate'  22                 none         own                1   \n2        'real estate'  49                 none         own                1   \n3     'life insurance'  45                 none  'for free'                1   \n4  'no known property'  53                 none  'for free'                2   \n\n                    job num_dependents  own_telephone foreign_worker class  \n0               skilled              1            yes            yes  good  \n1               skilled              1           none            yes   bad  \n2  'unskilled resident'              2           none            yes  good  \n3               skilled              2           none            yes  good  \n4               skilled              2           none            yes   bad  \n\n[5 rows x 21 columns]",
      "text/html": "<div>\n<style scoped>\n    .dataframe tbody tr th:only-of-type {\n        vertical-align: middle;\n    }\n\n    .dataframe tbody tr th {\n        vertical-align: top;\n    }\n\n    .dataframe thead th {\n        text-align: right;\n    }\n</style>\n<table border=\"1\" class=\"dataframe\">\n  <thead>\n    <tr style=\"text-align: right;\">\n      <th></th>\n      <th>checking_status</th>\n      <th>duration</th>\n      <th>credit_history</th>\n      <th>purpose</th>\n      <th>credit_amount</th>\n      <th>savings_status</th>\n      <th>employment</th>\n      <th>installment_commitment</th>\n      <th>personal_status</th>\n      <th>other_parties</th>\n      <th>...</th>\n      <th>property_magnitude</th>\n      <th>age</th>\n      <th>other_payment_plans</th>\n      <th>housing</th>\n      <th>existing_credits</th>\n      <th>job</th>\n      <th>num_dependents</th>\n      <th>own_telephone</th>\n      <th>foreign_worker</th>\n      <th>class</th>\n    </tr>\n  </thead>\n  <tbody>\n    <tr>\n      <th>0</th>\n      <td>&lt;0</td>\n      <td>6</td>\n      <td>'critical/other existing credit'</td>\n      <td>radio/tv</td>\n      <td>1169</td>\n      <td>'no known savings'</td>\n      <td>&gt;=7</td>\n      <td>4</td>\n      <td>'male single'</td>\n      <td>none</td>\n      <td>...</td>\n      <td>'real estate'</td>\n      <td>67</td>\n      <td>none</td>\n      <td>own</td>\n      <td>2</td>\n      <td>skilled</td>\n      <td>1</td>\n      <td>yes</td>\n      <td>yes</td>\n      <td>good</td>\n    </tr>\n    <tr>\n      <th>1</th>\n      <td>0&lt;=X&lt;200</td>\n      <td>48</td>\n      <td>'existing paid'</td>\n      <td>radio/tv</td>\n      <td>5951</td>\n      <td>&lt;100</td>\n      <td>1&lt;=X&lt;4</td>\n      <td>2</td>\n      <td>'female div/dep/mar'</td>\n      <td>none</td>\n      <td>...</td>\n      <td>'real estate'</td>\n      <td>22</td>\n      <td>none</td>\n      <td>own</td>\n      <td>1</td>\n      <td>skilled</td>\n      <td>1</td>\n      <td>none</td>\n      <td>yes</td>\n      <td>bad</td>\n    </tr>\n    <tr>\n      <th>2</th>\n      <td>'no checking'</td>\n      <td>12</td>\n      <td>'critical/other existing credit'</td>\n      <td>education</td>\n      <td>2096</td>\n      <td>&lt;100</td>\n      <td>4&lt;=X&lt;7</td>\n      <td>2</td>\n      <td>'male single'</td>\n      <td>none</td>\n      <td>...</td>\n      <td>'real estate'</td>\n      <td>49</td>\n      <td>none</td>\n      <td>own</td>\n      <td>1</td>\n      <td>'unskilled resident'</td>\n      <td>2</td>\n      <td>none</td>\n      <td>yes</td>\n      <td>good</td>\n    </tr>\n    <tr>\n      <th>3</th>\n      <td>&lt;0</td>\n      <td>42</td>\n      <td>'existing paid'</td>\n      <td>furniture/equipment</td>\n      <td>7882</td>\n      <td>&lt;100</td>\n      <td>4&lt;=X&lt;7</td>\n      <td>2</td>\n      <td>'male single'</td>\n      <td>guarantor</td>\n      <td>...</td>\n      <td>'life insurance'</td>\n      <td>45</td>\n      <td>none</td>\n      <td>'for free'</td>\n      <td>1</td>\n      <td>skilled</td>\n      <td>2</td>\n      <td>none</td>\n      <td>yes</td>\n      <td>good</td>\n    </tr>\n    <tr>\n      <th>4</th>\n      <td>&lt;0</td>\n      <td>24</td>\n      <td>'delayed previously'</td>\n      <td>'new car'</td>\n      <td>4870</td>\n      <td>&lt;100</td>\n      <td>1&lt;=X&lt;4</td>\n      <td>3</td>\n      <td>'male single'</td>\n      <td>none</td>\n      <td>...</td>\n      <td>'no known property'</td>\n      <td>53</td>\n      <td>none</td>\n      <td>'for free'</td>\n      <td>2</td>\n      <td>skilled</td>\n      <td>2</td>\n      <td>none</td>\n      <td>yes</td>\n      <td>bad</td>\n    </tr>\n  </tbody>\n</table>\n<p>5 rows × 21 columns</p>\n</div>"
     },
     "metadata": {},
     "execution_count": 2
    }
   ],
   "source": [
    "# Importando base de dados\n",
    "credito = pd.read_csv('../Dados/Credit.csv')\n",
    "credito.head()"
   ]
  },
  {
   "cell_type": "code",
   "execution_count": 4,
   "metadata": {},
   "outputs": [],
   "source": [
    "# Separando dados e classe (Feature, Target)\n",
    "previsores = credito.iloc[:, 0:20].values\n",
    "classe = credito.iloc[:, 20].values"
   ]
  },
  {
   "cell_type": "code",
   "execution_count": 5,
   "metadata": {},
   "outputs": [],
   "source": [
    "# Convertendo valores categóricos em numéricos\n",
    "label_enconder = LabelEncoder()\n",
    "previsores[:, 0] = label_enconder.fit_transform(previsores[:, 0])\n",
    "previsores[:, 2] = label_enconder.fit_transform(previsores[:, 2])\n",
    "previsores[:, 3] = label_enconder.fit_transform(previsores[:, 3])\n",
    "previsores[:, 5] = label_enconder.fit_transform(previsores[:, 5])\n",
    "previsores[:, 6] = label_enconder.fit_transform(previsores[:, 6])\n",
    "previsores[:, 8] = label_enconder.fit_transform(previsores[:, 8])\n",
    "previsores[:, 9] = label_enconder.fit_transform(previsores[:, 9])\n",
    "previsores[:, 11] = label_enconder.fit_transform(previsores[:, 11])\n",
    "previsores[:, 13] = label_enconder.fit_transform(previsores[:, 13])\n",
    "previsores[:, 14] = label_enconder.fit_transform(previsores[:, 14])\n",
    "previsores[:, 16] = label_enconder.fit_transform(previsores[:, 16])\n",
    "previsores[:, 18] = label_enconder.fit_transform(previsores[:, 18])\n",
    "previsores[:, 19] = label_enconder.fit_transform(previsores[:, 19])"
   ]
  },
  {
   "cell_type": "code",
   "execution_count": 6,
   "metadata": {},
   "outputs": [],
   "source": [
    "# Dividindo base entre treino e teste\n",
    "X_training, X_test, y_training, y_test = train_test_split(previsores, classe, test_size = 0.3, random_state = 0)"
   ]
  },
  {
   "cell_type": "code",
   "execution_count": 7,
   "metadata": {},
   "outputs": [
    {
     "output_type": "execute_result",
     "data": {
      "text/plain": "DecisionTreeClassifier()"
     },
     "metadata": {},
     "execution_count": 7
    }
   ],
   "source": [
    "# Criando modelo de treinamento e teste\n",
    "arvore = DecisionTreeClassifier()\n",
    "arvore.fit(X_training, y_training)"
   ]
  },
  {
   "cell_type": "code",
   "execution_count": 8,
   "metadata": {
    "tags": []
   },
   "outputs": [
    {
     "output_type": "execute_result",
     "data": {
      "text/plain": "array(['bad', 'bad', 'good', 'good', 'good', 'good', 'good', 'good',\n       'good', 'bad', 'bad', 'bad', 'bad', 'bad', 'bad', 'bad', 'good',\n       'good', 'bad', 'bad', 'good', 'bad', 'good', 'good', 'good', 'bad',\n       'good', 'bad', 'bad', 'bad', 'good', 'bad', 'bad', 'bad', 'good',\n       'bad', 'good', 'good', 'good', 'good', 'good', 'bad', 'good',\n       'bad', 'good', 'good', 'good', 'bad', 'bad', 'good', 'good', 'bad',\n       'bad', 'good', 'good', 'bad', 'good', 'good', 'good', 'good',\n       'bad', 'good', 'good', 'good', 'good', 'bad', 'good', 'good',\n       'bad', 'good', 'good', 'good', 'bad', 'bad', 'good', 'good', 'bad',\n       'bad', 'good', 'good', 'good', 'good', 'good', 'good', 'good',\n       'good', 'bad', 'bad', 'good', 'good', 'good', 'bad', 'bad', 'good',\n       'good', 'good', 'good', 'bad', 'good', 'bad', 'good', 'good',\n       'good', 'good', 'good', 'good', 'bad', 'bad', 'good', 'good',\n       'good', 'good', 'good', 'good', 'good', 'good', 'bad', 'good',\n       'bad', 'good', 'bad', 'good', 'bad', 'bad', 'good', 'good', 'good',\n       'good', 'good', 'good', 'good', 'good', 'good', 'good', 'good',\n       'good', 'good', 'good', 'good', 'bad', 'bad', 'good', 'good',\n       'good', 'bad', 'good', 'good', 'bad', 'good', 'good', 'good',\n       'good', 'good', 'good', 'bad', 'good', 'good', 'good', 'good',\n       'good', 'bad', 'good', 'good', 'good', 'bad', 'bad', 'bad', 'good',\n       'bad', 'good', 'bad', 'good', 'bad', 'good', 'good', 'bad', 'bad',\n       'bad', 'good', 'good', 'good', 'good', 'bad', 'good', 'bad',\n       'good', 'good', 'good', 'bad', 'good', 'good', 'bad', 'good',\n       'good', 'good', 'bad', 'good', 'good', 'good', 'good', 'good',\n       'bad', 'bad', 'good', 'good', 'good', 'bad', 'good', 'good',\n       'good', 'good', 'bad', 'good', 'good', 'good', 'bad', 'good',\n       'good', 'good', 'bad', 'bad', 'bad', 'good', 'good', 'good',\n       'good', 'good', 'bad', 'bad', 'good', 'good', 'good', 'good',\n       'good', 'good', 'bad', 'good', 'good', 'good', 'good', 'good',\n       'good', 'good', 'good', 'good', 'bad', 'good', 'good', 'good',\n       'good', 'bad', 'bad', 'good', 'bad', 'good', 'good', 'good',\n       'good', 'good', 'bad', 'good', 'bad', 'good', 'good', 'bad', 'bad',\n       'good', 'good', 'good', 'bad', 'bad', 'good', 'good', 'good',\n       'good', 'good', 'good', 'good', 'bad', 'bad', 'good', 'good',\n       'good', 'good', 'good', 'good', 'good', 'bad', 'bad', 'bad', 'bad',\n       'good', 'good', 'good', 'good', 'good', 'bad', 'good', 'bad',\n       'bad'], dtype=object)"
     },
     "metadata": {},
     "execution_count": 8
    }
   ],
   "source": [
    "# Gerando arquivo da árvore de decisão - www.webgraphviz.com\n",
    "export_graphviz(arvore, out_file = 'tree.dot')\n",
    "\n",
    "# Testando modelo\n",
    "previsoes = arvore.predict(X_test)\n",
    "previsoes"
   ]
  },
  {
   "cell_type": "code",
   "execution_count": 9,
   "metadata": {},
   "outputs": [
    {
     "output_type": "execute_result",
     "data": {
      "text/plain": "array([[ 43,  43],\n       [ 54, 160]])"
     },
     "metadata": {},
     "execution_count": 9
    }
   ],
   "source": [
    "# Gerando matriz de confusão\n",
    "confusao = confusion_matrix(y_test, previsoes)\n",
    "confusao"
   ]
  },
  {
   "cell_type": "code",
   "execution_count": 10,
   "metadata": {},
   "outputs": [
    {
     "output_type": "execute_result",
     "data": {
      "text/plain": "0.6766666666666666"
     },
     "metadata": {},
     "execution_count": 10
    }
   ],
   "source": [
    "# Verificando taxa de acerto\n",
    "taxa_acerto = accuracy_score(y_test, previsoes)\n",
    "taxa_acerto"
   ]
  },
  {
   "cell_type": "code",
   "execution_count": 11,
   "metadata": {},
   "outputs": [
    {
     "output_type": "execute_result",
     "data": {
      "text/plain": "0.32333333333333336"
     },
     "metadata": {},
     "execution_count": 11
    }
   ],
   "source": [
    "# Verificando taxa de erro\n",
    "taxa_erro = 1 - taxa_acerto\n",
    "taxa_erro"
   ]
  }
 ]
}