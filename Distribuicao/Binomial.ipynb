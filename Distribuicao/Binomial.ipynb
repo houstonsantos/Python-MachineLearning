{
 "cells": [
  {
   "cell_type": "code",
   "execution_count": 1,
   "metadata": {},
   "outputs": [],
   "source": [
    "import numpy as np\n",
    "import seaborn as sb\n",
    "from scipy.stats import binom"
   ]
  },
  {
   "cell_type": "markdown",
   "metadata": {},
   "source": [
    "## Distribuição Binomial"
   ]
  },
  {
   "cell_type": "code",
   "execution_count": 2,
   "metadata": {},
   "outputs": [
    {
     "data": {
      "text/plain": [
       "0.31249999999999983"
      ]
     },
     "execution_count": 2,
     "metadata": {},
     "output_type": "execute_result"
    }
   ],
   "source": [
    "# Jogar uma moeda 5 vezes, qual a probabilidade de dar cara 3 vezes\n",
    "prob = binom.pmf(3, 5, 0.5)\n",
    "prob"
   ]
  },
  {
   "cell_type": "code",
   "execution_count": 3,
   "metadata": {
    "tags": []
   },
   "outputs": [
    {
     "name": "stdout",
     "output_type": "stream",
     "text": [
      "0.31640625\n",
      "0.4218750000000001\n",
      "0.21093750000000006\n",
      "0.046875000000000014\n",
      "0.00390625\n"
     ]
    }
   ],
   "source": [
    "# Passar por um sinal de 4 tempos, qual a probabilidade de pegar o sinal verde 0, 1, 2, 3, 4 vezes\n",
    "print(binom.pmf(0, 4, 0.25))\n",
    "print(binom.pmf(1, 4, 0.25))\n",
    "print(binom.pmf(2, 4, 0.25))\n",
    "print(binom.pmf(3, 4, 0.25))\n",
    "print(binom.pmf(4, 4, 0.25))"
   ]
  },
  {
   "cell_type": "code",
   "execution_count": 4,
   "metadata": {},
   "outputs": [
    {
     "data": {
      "text/plain": [
       "1.0"
      ]
     },
     "execution_count": 4,
     "metadata": {},
     "output_type": "execute_result"
    }
   ],
   "source": [
    "# Probabilidade acumulativa\n",
    "binom.cdf(4, 4, 0.25)"
   ]
  },
  {
   "cell_type": "code",
   "execution_count": 5,
   "metadata": {},
   "outputs": [
    {
     "data": {
      "text/plain": [
       "0.011471271514892587"
      ]
     },
     "execution_count": 5,
     "metadata": {},
     "output_type": "execute_result"
    }
   ],
   "source": [
    "\n",
    "# Concurso com 12 questões, qual a probabilidade de acertar 7 questões, considerando que cada questão tem 4 alternativas\n",
    "binom.pmf(7, 12, 0.25)"
   ]
  },
  {
   "cell_type": "code",
   "execution_count": 6,
   "metadata": {},
   "outputs": [
    {
     "data": {
      "text/plain": [
       "array([44, 39, 56, 48, 58, 52, 53, 41, 46, 40, 57, 47, 43, 52, 50, 46, 51,\n",
       "       56, 46, 50, 47, 45, 51, 43, 51, 48, 55, 44, 39, 54, 45, 51, 51, 50,\n",
       "       48, 47, 46, 51, 56, 53, 52, 47, 57, 55, 50, 43, 57, 53, 45, 45, 48,\n",
       "       46, 50, 45, 51, 41, 55, 47, 47, 50, 54, 41, 50, 53, 54, 50, 48, 55,\n",
       "       55, 53, 52, 54, 45, 52, 50, 50, 49, 51, 55, 57, 53, 37, 43, 54, 49,\n",
       "       49, 51, 50, 60, 48, 45, 44, 48, 47, 49, 53, 53, 46, 56, 55, 57, 49,\n",
       "       46, 54, 55, 54, 61, 50, 50, 45, 46, 55, 46, 46, 51, 57, 56, 41, 46,\n",
       "       51, 50, 51, 47, 57, 45, 53, 54, 51, 47, 51, 47, 38, 55, 43, 47, 48,\n",
       "       48, 51, 52, 43, 50, 53, 51, 55, 52, 43, 52, 45, 54, 50, 54, 54, 53,\n",
       "       58, 54, 62, 47, 42, 47, 56, 49, 54, 50, 55, 44, 56, 52, 55, 51, 40,\n",
       "       53, 56, 52, 43, 46, 46, 44, 53, 40, 52, 55, 48, 56, 55, 54, 53, 56,\n",
       "       50, 42, 52, 49, 56, 52, 44, 50, 43, 58, 51, 50, 53, 48, 54, 48, 54,\n",
       "       54, 46, 51, 57, 49, 51, 53, 57, 52, 44, 43, 54, 56, 48, 56, 46, 44,\n",
       "       55, 44, 54, 48, 46, 55, 51, 51, 51, 46, 43, 58, 53, 57, 52, 50, 52,\n",
       "       52, 54, 46, 47, 52, 45, 47, 48, 60, 49, 42, 46, 47, 51, 57, 51, 53,\n",
       "       56, 49, 53, 55, 50, 54, 52, 50, 59, 44, 45, 52, 49, 51, 62, 46, 50,\n",
       "       49, 48, 50, 48, 50, 46, 48, 47, 50, 53, 58, 46, 48, 51, 47, 52, 58,\n",
       "       45, 43, 42, 47, 48, 45, 54, 41, 46, 53, 56, 49, 47, 57, 51, 55, 38,\n",
       "       45, 54, 55, 51, 63, 58, 47, 44, 48, 42, 52, 39, 41, 52, 52, 45, 49,\n",
       "       58, 46, 51, 53, 43, 53, 51, 45, 54, 51, 42, 46, 50, 51, 55, 58, 51,\n",
       "       45, 51, 45, 50, 44, 46, 51, 48, 46, 51, 53, 57, 54, 46, 45, 42, 44,\n",
       "       44, 51, 47, 59, 56, 49, 51, 53, 42, 44, 42, 47, 45, 51, 54, 47, 56,\n",
       "       48, 53, 55, 54, 49, 39, 46, 53, 46, 45, 44, 58, 60, 42, 53, 54, 50,\n",
       "       43, 53, 42, 48, 58, 49, 49, 53, 47, 47, 55, 57, 55, 50, 40, 53, 59,\n",
       "       44, 40, 43, 50, 53, 50, 44, 48, 51, 56, 53, 50, 45, 51, 40, 50, 48,\n",
       "       48, 44, 58, 52, 48, 43, 51, 50, 48, 44, 50, 52, 52, 49, 53, 52, 56,\n",
       "       54, 62, 55, 55, 49, 36, 53, 54, 52, 52, 48, 43, 49, 43, 43, 50, 55,\n",
       "       53, 41, 43, 55, 47, 55, 51, 47, 58, 36, 53, 54, 49, 54, 52, 49, 48,\n",
       "       41, 54, 53, 55, 50, 65, 44, 53, 50, 59, 42, 51, 53, 39, 43, 47, 47,\n",
       "       50, 47, 48, 47, 44, 48, 53, 53, 42, 51, 48, 45, 47, 49, 42, 58, 43,\n",
       "       47, 51, 47, 46, 51, 50, 51, 55, 43, 42, 42, 41, 50, 49, 56, 47, 53,\n",
       "       45, 52, 58, 50, 52, 42, 45, 60, 53, 48, 48, 49, 52, 53, 50, 55, 52,\n",
       "       44, 53, 47, 58, 45, 41, 58, 50, 46, 51, 51, 42, 52, 52, 57, 35, 55,\n",
       "       49, 41, 51, 45, 49, 51, 54, 54, 47, 59, 49, 49, 52, 57, 44, 40, 51,\n",
       "       47, 47, 45, 52, 48, 46, 65, 43, 55, 53, 51, 53, 52, 55, 46, 53, 40,\n",
       "       44, 57, 49, 49, 55, 46, 49, 44, 45, 47, 47, 58, 53, 57, 58, 49, 58,\n",
       "       50, 47, 55, 46, 55, 43, 47, 52, 49, 48, 44, 50, 49, 52, 54, 51, 52,\n",
       "       46, 51, 52, 50, 44, 51, 43, 53, 46, 58, 40, 46, 50, 43, 54, 58, 43,\n",
       "       48, 49, 44, 62, 50, 53, 43, 50, 54, 46, 45, 50, 57, 55, 54, 51, 49,\n",
       "       55, 59, 51, 40, 42, 40, 46, 51, 46, 53, 53, 50, 43, 46, 47, 54, 46,\n",
       "       57, 52, 52, 43, 53, 48, 61, 54, 46, 53, 42, 49, 52, 61, 39, 56, 44,\n",
       "       52, 62, 53, 45, 49, 51, 56, 48, 44, 50, 53, 57, 51, 55, 48, 60, 50,\n",
       "       56, 46, 51, 42, 53, 47, 50, 47, 50, 45, 50, 42, 46, 49, 44, 48, 51,\n",
       "       45, 53, 45, 51, 53, 48, 54, 42, 57, 46, 55, 44, 45, 45, 45, 47, 52,\n",
       "       49, 45, 50, 47, 46, 48, 48, 52, 47, 58, 42, 39, 46, 50, 54, 43, 49,\n",
       "       46, 50, 54, 45, 50, 49, 44, 42, 55, 61, 47, 53, 52, 42, 45, 47, 50,\n",
       "       48, 49, 38, 53, 46, 46, 45, 50, 61, 54, 58, 52, 43, 44, 48, 56, 53,\n",
       "       48, 47, 48, 50, 53, 54, 54, 51, 51, 39, 52, 57, 42, 48, 43, 52, 54,\n",
       "       55, 54, 48, 53, 42, 44, 50, 51, 51, 53, 51, 43, 47, 56, 48, 53, 53,\n",
       "       52, 58, 43, 52, 48, 54, 49, 45, 53, 45, 47, 61, 52, 52, 50, 47, 44,\n",
       "       55, 47, 46, 54, 40, 44, 47, 40, 44, 52, 48, 40, 52, 45, 50, 48, 49,\n",
       "       44, 42, 50, 50, 55, 49, 53, 64, 56, 53, 44, 57, 46, 43, 53, 52, 46,\n",
       "       55, 43, 46, 46, 49, 42, 56, 56, 50, 43, 44, 46, 44, 43, 48, 54, 56,\n",
       "       50, 51, 53, 56, 42, 52, 52, 53, 53, 55, 47, 45, 56, 55, 43, 47, 47,\n",
       "       53, 36, 44, 43, 47, 43, 56, 53, 51, 50, 48, 43, 56, 47, 44, 45, 51,\n",
       "       54, 47, 46, 55, 59, 60, 53, 48, 51, 49, 46, 51, 49, 48, 46, 42, 47,\n",
       "       51, 47, 46, 53, 50, 45, 49, 52, 58, 47, 48, 51, 47, 52, 55, 52, 49,\n",
       "       43, 47, 49, 60, 46, 50, 61, 50, 52, 46, 51, 51, 51, 55, 54, 53, 45,\n",
       "       57, 56, 42, 50, 44, 48, 52, 47, 44, 54, 49, 43, 42, 51])"
      ]
     },
     "execution_count": 6,
     "metadata": {},
     "output_type": "execute_result"
    }
   ],
   "source": [
    "# Gerando amostra Binomial\n",
    "bx = binom.rvs(100, 0.5, size = 1000)\n",
    "bx"
   ]
  },
  {
   "cell_type": "code",
   "execution_count": 7,
   "metadata": {},
   "outputs": [
    {
     "name": "stderr",
     "output_type": "stream",
     "text": [
      "/var/folders/nm/vld9byk130bb28cb7q9fs82c0000gn/T/ipykernel_9552/706257623.py:1: UserWarning: \n",
      "\n",
      "`distplot` is a deprecated function and will be removed in seaborn v0.14.0.\n",
      "\n",
      "Please adapt your code to use either `displot` (a figure-level function with\n",
      "similar flexibility) or `histplot` (an axes-level function for histograms).\n",
      "\n",
      "For a guide to updating your code to use the new functions, please see\n",
      "https://gist.github.com/mwaskom/de44147ed2974457ad6372750bbe5751\n",
      "\n",
      "  sb.distplot(bx, hist = True, kde = True)\n"
     ]
    },
    {
     "data": {
      "text/plain": [
       "<AxesSubplot: ylabel='Density'>"
      ]
     },
     "execution_count": 7,
     "metadata": {},
     "output_type": "execute_result"
    },
    {
     "data": {
      "image/png": "[encoded data removed]",
      "text/plain": [
       "<Figure size 640x480 with 1 Axes>"
      ]
     },
     "metadata": {},
     "output_type": "display_data"
    }
   ],
   "source": [
    "sb.distplot(bx, hist = True, kde = True)"
   ]
  }
 ],
 "metadata": {
  "kernelspec": {
   "display_name": "Python 3.11.0 ('.venv': venv)",
   "language": "python",
   "name": "python3"
  },
  "language_info": {
   "codemirror_mode": {
    "name": "ipython",
    "version": 3
   },
   "file_extension": ".py",
   "mimetype": "text/x-python",
   "name": "python",
   "nbconvert_exporter": "python",
   "pygments_lexer": "ipython3",
   "version": "3.11.0"
  },
  "orig_nbformat": 2,
  "vscode": {
   "interpreter": {
    "hash": "3ea0a9893250fc57795d009ac138e77c80cae4e349f027fbb905c62be7355b4c"
   }
  }
 },
 "nbformat": 4,
 "nbformat_minor": 2
}
