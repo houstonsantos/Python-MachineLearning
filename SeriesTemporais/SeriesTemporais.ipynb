{
 "metadata": {
  "language_info": {
   "codemirror_mode": {
    "name": "ipython",
    "version": 3
   },
   "file_extension": ".py",
   "mimetype": "text/x-python",
   "name": "python",
   "nbconvert_exporter": "python",
   "pygments_lexer": "ipython3",
   "version": 3
  },
  "orig_nbformat": 2,
  "kernelspec": {
   "name": "python_defaultSpec_1597007745971",
   "display_name": "Python 3.7.3 64-bit ('venv': venv)"
  }
 },
 "nbformat": 4,
 "nbformat_minor": 2,
 "cells": [
  {
   "cell_type": "code",
   "execution_count": 2,
   "metadata": {},
   "outputs": [],
   "source": [
    "import pandas as pd\n",
    "import matplotlib.pylab as plt\n",
    "from datetime import datetime\n",
    "from pmdarima.arima import auto_arima\n",
    "from statsmodels.tsa.arima_model import ARIMA\n",
    "from statsmodels.tsa.seasonal import seasonal_decompose"
   ]
  },
  {
   "cell_type": "markdown",
   "metadata": {},
   "source": [
    "## Séries Temporais"
   ]
  },
  {
   "cell_type": "code",
   "execution_count": 4,
   "metadata": {},
   "outputs": [
    {
     "output_type": "execute_result",
     "data": {
      "text/plain": "     Month  #Passengers\n0  1949-01          112\n1  1949-02          118\n2  1949-03          132\n3  1949-04          129\n4  1949-05          121",
      "text/html": "<div>\n<style scoped>\n    .dataframe tbody tr th:only-of-type {\n        vertical-align: middle;\n    }\n\n    .dataframe tbody tr th {\n        vertical-align: top;\n    }\n\n    .dataframe thead th {\n        text-align: right;\n    }\n</style>\n<table border=\"1\" class=\"dataframe\">\n  <thead>\n    <tr style=\"text-align: right;\">\n      <th></th>\n      <th>Month</th>\n      <th>#Passengers</th>\n    </tr>\n  </thead>\n  <tbody>\n    <tr>\n      <th>0</th>\n      <td>1949-01</td>\n      <td>112</td>\n    </tr>\n    <tr>\n      <th>1</th>\n      <td>1949-02</td>\n      <td>118</td>\n    </tr>\n    <tr>\n      <th>2</th>\n      <td>1949-03</td>\n      <td>132</td>\n    </tr>\n    <tr>\n      <th>3</th>\n      <td>1949-04</td>\n      <td>129</td>\n    </tr>\n    <tr>\n      <th>4</th>\n      <td>1949-05</td>\n      <td>121</td>\n    </tr>\n  </tbody>\n</table>\n</div>"
     },
     "metadata": {},
     "execution_count": 4
    }
   ],
   "source": [
    "# Importando base de dados\n",
    "base = pd.read_csv('../Dados/AirPassengers.csv')\n",
    "base.head()"
   ]
  },
  {
   "cell_type": "code",
   "execution_count": 5,
   "metadata": {},
   "outputs": [
    {
     "output_type": "execute_result",
     "data": {
      "text/plain": "Month          object\n#Passengers     int64\ndtype: object"
     },
     "metadata": {},
     "execution_count": 5
    }
   ],
   "source": [
    "# Verificando tipo dos datos e convertendo object\n",
    "base.dtypes"
   ]
  },
  {
   "cell_type": "code",
   "execution_count": 6,
   "metadata": {},
   "outputs": [
    {
     "output_type": "execute_result",
     "data": {
      "text/plain": "DatetimeIndex(['1949-01-01', '1949-02-01', '1949-03-01', '1949-04-01',\n               '1949-05-01', '1949-06-01', '1949-07-01', '1949-08-01',\n               '1949-09-01', '1949-10-01',\n               ...\n               '1960-03-01', '1960-04-01', '1960-05-01', '1960-06-01',\n               '1960-07-01', '1960-08-01', '1960-09-01', '1960-10-01',\n               '1960-11-01', '1960-12-01'],\n              dtype='datetime64[ns]', name='Month', length=144, freq=None)"
     },
     "metadata": {},
     "execution_count": 6
    }
   ],
   "source": [
    "# Criando parse para conversão\n",
    "dateparse = lambda dates: pd.datetime.strptime(dates, '%Y-%m')\n",
    "\n",
    "# Convertendo para tipo date\n",
    "base = pd.read_csv('../Dados/AirPassengers.csv', parse_dates = ['Month'], index_col ='Month', date_parser = dateparse)\n",
    "\n",
    "# Verificando os índices\n",
    "base.index"
   ]
  },
  {
   "cell_type": "code",
   "execution_count": null,
   "metadata": {},
   "outputs": [],
   "source": [
    "# Tranformando de Data Frame para Series\n",
    "ts = base['#Passengers']\n",
    "\n",
    "# Verificando valores usando índice\n",
    "ts[1]\n",
    "ts['1949-02']\n",
    "ts[datetime(1949,2,1)]\n",
    "ts['1950-01-01':'1950-07-31']\n",
    "ts[:'1950-07-31']\n",
    "ts['1950']\n",
    "\n",
    "# Verificando maior e menor valor\n",
    "ts.index.max()\n",
    "ts.index.min()\n",
    "\n",
    "# Gráfico da série\n",
    "plt.plot(ts)\n",
    "\n",
    "# Agrupando por ano\n",
    "ts_ano = ts.resample('A').sum()\n",
    "plt.plot(ts_ano)\n",
    "\n",
    "# Agrupando por mês\n",
    "ts_mes = ts.groupby([lambda x: x.month]).sum()\n",
    "plt.plot(ts_mes)\n",
    "\n",
    "# Agrupando por ano-mês\n",
    "ts_datas = ts['1960-01-01':'1960-12-01']\n",
    "plt.plot(ts_datas)\n",
    "\n",
    "\n",
    "# Decomposição\n",
    "decomposicao = seasonal_decompose(ts)\n",
    "\n",
    "# Valores com a tendencia de crescimento\n",
    "tendencia = decomposicao.trend\n",
    "plt.plot(tendencia)\n",
    "\n",
    "# Valores sazonal\n",
    "sazonal = decomposicao.seasonal\n",
    "plt.plot(sazonal)\n",
    "\n",
    "# Valores aleatórios ou residuais\n",
    "aleatorio = decomposicao.resid\n",
    "plt.plot(aleatorio)\n",
    "\n",
    "# Visualizando série\n",
    "plt.subplot(4, 1, 1)\n",
    "plt.plot(ts, label = 'Originao')\n",
    "plt.legend(loc = 'best')\n",
    "\n",
    "plt.subplot(4, 1, 2)\n",
    "plt.plot(tendencia, label = 'Tendência')\n",
    "plt.legend(loc = 'best')\n",
    "\n",
    "plt.subplot(4, 1, 3)\n",
    "plt.plot(sazonal, label = 'Sazonalidade')\n",
    "plt.legend(loc = 'best')\n",
    "\n",
    "plt.subplot(4, 1, 4)\n",
    "plt.plot(aleatorio, label = 'Aleatório')\n",
    "plt.legend(loc = 'best')\n",
    "plt.tight_layout()\n",
    "\n",
    "\n",
    "# Previsão\n",
    "# Verificando média\n",
    "ts.mean()\n",
    "\n",
    "# Média do ultimo ano\n",
    "ts['1960-01-01':'1960-12-01'].mean()\n",
    "\n",
    "# Média movel\n",
    "# media_movel = ts.rolling(window = 2).mean()\n",
    "media_movel = ts.rolling(window = 12).mean()\n",
    "ts[0:12].mean()\n",
    "ts[1:13].mean()\n",
    "\n",
    "# Gráfico da série temporal\n",
    "plt.plot(ts)\n",
    "plt.plot(media_movel, color = 'red')\n",
    "\n",
    "previsoes = []\n",
    "for i in range(1, 13):\n",
    "    superior = len(media_movel) - i\n",
    "    inferior = superior - 11\n",
    "    print(inferior)\n",
    "    print(superior)\n",
    "    print('------')\n",
    "    previsoes.append(media_movel[inferior:superior].mean())\n",
    "\n",
    "# Invertendo valores\n",
    "previsoes = previsoes[:: -1]\n",
    "plt.plot(previsoes)\n",
    "\n",
    "\n",
    "# Previsão Usando Arima p, q, d\n",
    "modelo = ARIMA(ts, order = (2, 1, 2))\n",
    "\n",
    "# Criando modelo de treinamento e teste\n",
    "modelo_treinado = modelo.fit()\n",
    "\n",
    "# Verificando detalhes do modelo treinado\n",
    "modelo_treinado.summary()\n",
    "\n",
    "# Realizando previsão para 12 meses\n",
    "previsoes = modelo_treinado.forecast(steps = 12)[0]\n",
    "\n",
    "# Gerando gráfico de previsões\n",
    "eixo = ts.plot()\n",
    "modelo_treinado.plot_predict('1960-01-01', '1962-01-01', ax = eixo, plot_insample = True)\n",
    "\n",
    "# Usando o Auto Arima para descobrir melhor conjunto de parâmetros para ARIMA\n",
    "modelo_auto = auto_arima(ts, m = 12, seasonal = True, trace = True)\n",
    "modelo_auto.symmary()\n",
    "\n",
    "# Realizando previsão com Auto Arima\n",
    "proximos = modelo_auto.predict(n_periods = 12)\n"
   ]
  }
 ]
}