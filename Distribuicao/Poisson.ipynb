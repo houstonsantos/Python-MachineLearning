{
 "metadata": {
  "language_info": {
   "codemirror_mode": {
    "name": "ipython",
    "version": 3
   },
   "file_extension": ".py",
   "mimetype": "text/x-python",
   "name": "python",
   "nbconvert_exporter": "python",
   "pygments_lexer": "ipython3",
   "version": "3.8.2-final"
  },
  "orig_nbformat": 2,
  "kernelspec": {
   "name": "python_defaultSpec_1598639826871",
   "display_name": "Python 3.7.3 64-bit ('venv': venv)"
  }
 },
 "nbformat": 4,
 "nbformat_minor": 2,
 "cells": [
  {
   "cell_type": "code",
   "execution_count": 2,
   "metadata": {},
   "outputs": [],
   "source": [
    "from scipy.stats import poisson"
   ]
  },
  {
   "cell_type": "markdown",
   "metadata": {},
   "source": [
    "## Distribuição de Poisson"
   ]
  },
  {
   "cell_type": "code",
   "execution_count": 3,
   "metadata": {},
   "outputs": [
    {
     "output_type": "execute_result",
     "data": {
      "text/plain": "0.18044704431548356"
     },
     "metadata": {},
     "execution_count": 3
    }
   ],
   "source": [
    "# Média de 2 acidentes por dia, probabilidade para 3 acidente\n",
    "poisson.pmf(3, 2)"
   ]
  },
  {
   "cell_type": "code",
   "execution_count": 4,
   "metadata": {},
   "outputs": [
    {
     "output_type": "execute_result",
     "data": {
      "text/plain": "0.857123460498547"
     },
     "metadata": {},
     "execution_count": 4
    }
   ],
   "source": [
    "# Probabilidade para 3 acidente ou menos\n",
    "poisson.cdf(3, 2)"
   ]
  },
  {
   "cell_type": "code",
   "execution_count": 5,
   "metadata": {},
   "outputs": [
    {
     "output_type": "execute_result",
     "data": {
      "text/plain": "0.14287653950145296"
     },
     "metadata": {},
     "execution_count": 5
    }
   ],
   "source": [
    "# Probabilidade para mais de 3 acidente\n",
    "poisson.sf(3, 2)"
   ]
  },
  {
   "cell_type": "code",
   "execution_count": 4,
   "metadata": {},
   "outputs": [
    {
     "output_type": "execute_result",
     "data": {
      "text/plain": "array([ 6,  5,  2,  6,  3,  5,  5,  5,  3,  7,  5,  1,  3,  5,  8, 10,  3,\n        8,  5,  7,  2,  5,  2,  5,  4,  9,  9,  5,  2,  4,  4,  4,  4,  3,\n        6,  5,  3,  7, 10,  7,  5,  3,  6,  3,  2,  7,  4, 11,  3,  5,  3,\n        3,  3,  7,  4,  7,  5,  3,  6,  2,  5,  4,  1,  5,  4,  9,  5,  4,\n        6,  1,  8, 10,  5,  4,  5,  2,  7,  4,  3,  4,  9,  4,  2,  4,  6,\n        6,  5,  6,  7,  2,  7,  5,  5,  7,  7,  6,  3,  7,  5,  7])"
     },
     "metadata": {},
     "execution_count": 4
    }
   ],
   "source": [
    "# Gerando amostra de Poisson\n",
    "px = poisson.rvs(mu = 5, size = 100)\n",
    "px"
   ]
  }
 ]
}