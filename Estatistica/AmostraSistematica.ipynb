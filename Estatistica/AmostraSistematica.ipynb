{
 "metadata": {
  "language_info": {
   "codemirror_mode": {
    "name": "ipython",
    "version": 3
   },
   "file_extension": ".py",
   "mimetype": "text/x-python",
   "name": "python",
   "nbconvert_exporter": "python",
   "pygments_lexer": "ipython3",
   "version": 3
  },
  "orig_nbformat": 2,
  "kernelspec": {
   "name": "python_defaultSpec_1596931754303",
   "display_name": "Python 3.7.3 64-bit ('venv': venv)"
  }
 },
 "nbformat": 4,
 "nbformat_minor": 2,
 "cells": [
  {
   "cell_type": "code",
   "execution_count": 1,
   "metadata": {},
   "outputs": [],
   "source": [
    "import pandas as pd\n",
    "import numpy as np\n",
    "from math import ceil"
   ]
  },
  {
   "cell_type": "markdown",
   "metadata": {},
   "source": [
    "## Amostra Sistemática"
   ]
  },
  {
   "cell_type": "code",
   "execution_count": 2,
   "metadata": {},
   "outputs": [
    {
     "output_type": "execute_result",
     "data": {
      "text/plain": "10"
     },
     "metadata": {},
     "execution_count": 2
    }
   ],
   "source": [
    "# Dividindo base entre treino e teste\n",
    "populacao = 150\n",
    "amostra = 15\n",
    "k = ceil(populacao / amostra)\n",
    "k"
   ]
  },
  {
   "cell_type": "code",
   "execution_count": 3,
   "metadata": {},
   "outputs": [
    {
     "output_type": "execute_result",
     "data": {
      "text/plain": "array([2])"
     },
     "metadata": {},
     "execution_count": 3
    }
   ],
   "source": [
    "# Realizando sorteio entre 1 e 10\n",
    "r = np.random.randint(low = 1, high = k + 1, size = 1)\n",
    "r"
   ]
  },
  {
   "cell_type": "code",
   "execution_count": 5,
   "metadata": {
    "tags": []
   },
   "outputs": [
    {
     "output_type": "stream",
     "name": "stdout",
     "text": "2\n12\n22\n32\n42\n52\n62\n72\n82\n92\n102\n112\n122\n132\n142\n"
    }
   ],
   "source": [
    "acumulador = r[0]\n",
    "sorteados = []\n",
    "\n",
    "for i in range(amostra):\n",
    "    print(acumulador)\n",
    "    # Craindo lista de sorteados\n",
    "    sorteados.append(acumulador)\n",
    "    acumulador += k"
   ]
  },
  {
   "cell_type": "code",
   "execution_count": null,
   "metadata": {},
   "outputs": [],
   "source": [
    "# Importando base de dados\n",
    "base = pd.read_csv('../Dados/Iris.csv')\n",
    "base_final = base.loc[sorteados]"
   ]
  }
 ]
}