{
 "cells": [
  {
   "cell_type": "code",
   "execution_count": 1,
   "metadata": {},
   "outputs": [],
   "source": [
    "import pandas as pd\n",
    "from sklearn.preprocessing import LabelEncoder\n",
    "from sklearn.ensemble import RandomForestClassifier\n",
    "from sklearn.model_selection import train_test_split\n",
    "from sklearn.metrics import confusion_matrix, accuracy_score"
   ]
  },
  {
   "cell_type": "markdown",
   "metadata": {},
   "source": [
    "## RandomForest"
   ]
  },
  {
   "cell_type": "code",
   "execution_count": 2,
   "metadata": {},
   "outputs": [
    {
     "data": {
      "text/html": [
       "<div>\n",
       "<style scoped>\n",
       "    .dataframe tbody tr th:only-of-type {\n",
       "        vertical-align: middle;\n",
       "    }\n",
       "\n",
       "    .dataframe tbody tr th {\n",
       "        vertical-align: top;\n",
       "    }\n",
       "\n",
       "    .dataframe thead th {\n",
       "        text-align: right;\n",
       "    }\n",
       "</style>\n",
       "<table border=\"1\" class=\"dataframe\">\n",
       "  <thead>\n",
       "    <tr style=\"text-align: right;\">\n",
       "      <th></th>\n",
       "      <th>checking_status</th>\n",
       "      <th>duration</th>\n",
       "      <th>credit_history</th>\n",
       "      <th>purpose</th>\n",
       "      <th>credit_amount</th>\n",
       "      <th>savings_status</th>\n",
       "      <th>employment</th>\n",
       "      <th>installment_commitment</th>\n",
       "      <th>personal_status</th>\n",
       "      <th>other_parties</th>\n",
       "      <th>...</th>\n",
       "      <th>property_magnitude</th>\n",
       "      <th>age</th>\n",
       "      <th>other_payment_plans</th>\n",
       "      <th>housing</th>\n",
       "      <th>existing_credits</th>\n",
       "      <th>job</th>\n",
       "      <th>num_dependents</th>\n",
       "      <th>own_telephone</th>\n",
       "      <th>foreign_worker</th>\n",
       "      <th>class</th>\n",
       "    </tr>\n",
       "  </thead>\n",
       "  <tbody>\n",
       "    <tr>\n",
       "      <th>0</th>\n",
       "      <td>&lt;0</td>\n",
       "      <td>6</td>\n",
       "      <td>'critical/other existing credit'</td>\n",
       "      <td>radio/tv</td>\n",
       "      <td>1169</td>\n",
       "      <td>'no known savings'</td>\n",
       "      <td>&gt;=7</td>\n",
       "      <td>4</td>\n",
       "      <td>'male single'</td>\n",
       "      <td>none</td>\n",
       "      <td>...</td>\n",
       "      <td>'real estate'</td>\n",
       "      <td>67</td>\n",
       "      <td>none</td>\n",
       "      <td>own</td>\n",
       "      <td>2</td>\n",
       "      <td>skilled</td>\n",
       "      <td>1</td>\n",
       "      <td>yes</td>\n",
       "      <td>yes</td>\n",
       "      <td>good</td>\n",
       "    </tr>\n",
       "    <tr>\n",
       "      <th>1</th>\n",
       "      <td>0&lt;=X&lt;200</td>\n",
       "      <td>48</td>\n",
       "      <td>'existing paid'</td>\n",
       "      <td>radio/tv</td>\n",
       "      <td>5951</td>\n",
       "      <td>&lt;100</td>\n",
       "      <td>1&lt;=X&lt;4</td>\n",
       "      <td>2</td>\n",
       "      <td>'female div/dep/mar'</td>\n",
       "      <td>none</td>\n",
       "      <td>...</td>\n",
       "      <td>'real estate'</td>\n",
       "      <td>22</td>\n",
       "      <td>none</td>\n",
       "      <td>own</td>\n",
       "      <td>1</td>\n",
       "      <td>skilled</td>\n",
       "      <td>1</td>\n",
       "      <td>none</td>\n",
       "      <td>yes</td>\n",
       "      <td>bad</td>\n",
       "    </tr>\n",
       "    <tr>\n",
       "      <th>2</th>\n",
       "      <td>'no checking'</td>\n",
       "      <td>12</td>\n",
       "      <td>'critical/other existing credit'</td>\n",
       "      <td>education</td>\n",
       "      <td>2096</td>\n",
       "      <td>&lt;100</td>\n",
       "      <td>4&lt;=X&lt;7</td>\n",
       "      <td>2</td>\n",
       "      <td>'male single'</td>\n",
       "      <td>none</td>\n",
       "      <td>...</td>\n",
       "      <td>'real estate'</td>\n",
       "      <td>49</td>\n",
       "      <td>none</td>\n",
       "      <td>own</td>\n",
       "      <td>1</td>\n",
       "      <td>'unskilled resident'</td>\n",
       "      <td>2</td>\n",
       "      <td>none</td>\n",
       "      <td>yes</td>\n",
       "      <td>good</td>\n",
       "    </tr>\n",
       "    <tr>\n",
       "      <th>3</th>\n",
       "      <td>&lt;0</td>\n",
       "      <td>42</td>\n",
       "      <td>'existing paid'</td>\n",
       "      <td>furniture/equipment</td>\n",
       "      <td>7882</td>\n",
       "      <td>&lt;100</td>\n",
       "      <td>4&lt;=X&lt;7</td>\n",
       "      <td>2</td>\n",
       "      <td>'male single'</td>\n",
       "      <td>guarantor</td>\n",
       "      <td>...</td>\n",
       "      <td>'life insurance'</td>\n",
       "      <td>45</td>\n",
       "      <td>none</td>\n",
       "      <td>'for free'</td>\n",
       "      <td>1</td>\n",
       "      <td>skilled</td>\n",
       "      <td>2</td>\n",
       "      <td>none</td>\n",
       "      <td>yes</td>\n",
       "      <td>good</td>\n",
       "    </tr>\n",
       "    <tr>\n",
       "      <th>4</th>\n",
       "      <td>&lt;0</td>\n",
       "      <td>24</td>\n",
       "      <td>'delayed previously'</td>\n",
       "      <td>'new car'</td>\n",
       "      <td>4870</td>\n",
       "      <td>&lt;100</td>\n",
       "      <td>1&lt;=X&lt;4</td>\n",
       "      <td>3</td>\n",
       "      <td>'male single'</td>\n",
       "      <td>none</td>\n",
       "      <td>...</td>\n",
       "      <td>'no known property'</td>\n",
       "      <td>53</td>\n",
       "      <td>none</td>\n",
       "      <td>'for free'</td>\n",
       "      <td>2</td>\n",
       "      <td>skilled</td>\n",
       "      <td>2</td>\n",
       "      <td>none</td>\n",
       "      <td>yes</td>\n",
       "      <td>bad</td>\n",
       "    </tr>\n",
       "  </tbody>\n",
       "</table>\n",
       "<p>5 rows × 21 columns</p>\n",
       "</div>"
      ],
      "text/plain": [
       "  checking_status  duration                    credit_history  \\\n",
       "0              <0         6  'critical/other existing credit'   \n",
       "1        0<=X<200        48                   'existing paid'   \n",
       "2   'no checking'        12  'critical/other existing credit'   \n",
       "3              <0        42                   'existing paid'   \n",
       "4              <0        24              'delayed previously'   \n",
       "\n",
       "               purpose  credit_amount      savings_status employment  \\\n",
       "0             radio/tv           1169  'no known savings'        >=7   \n",
       "1             radio/tv           5951                <100     1<=X<4   \n",
       "2            education           2096                <100     4<=X<7   \n",
       "3  furniture/equipment           7882                <100     4<=X<7   \n",
       "4            'new car'           4870                <100     1<=X<4   \n",
       "\n",
       "   installment_commitment       personal_status other_parties  ...  \\\n",
       "0                       4         'male single'          none  ...   \n",
       "1                       2  'female div/dep/mar'          none  ...   \n",
       "2                       2         'male single'          none  ...   \n",
       "3                       2         'male single'     guarantor  ...   \n",
       "4                       3         'male single'          none  ...   \n",
       "\n",
       "    property_magnitude age  other_payment_plans     housing existing_credits  \\\n",
       "0        'real estate'  67                 none         own                2   \n",
       "1        'real estate'  22                 none         own                1   \n",
       "2        'real estate'  49                 none         own                1   \n",
       "3     'life insurance'  45                 none  'for free'                1   \n",
       "4  'no known property'  53                 none  'for free'                2   \n",
       "\n",
       "                    job num_dependents  own_telephone foreign_worker class  \n",
       "0               skilled              1            yes            yes  good  \n",
       "1               skilled              1           none            yes   bad  \n",
       "2  'unskilled resident'              2           none            yes  good  \n",
       "3               skilled              2           none            yes  good  \n",
       "4               skilled              2           none            yes   bad  \n",
       "\n",
       "[5 rows x 21 columns]"
      ]
     },
     "execution_count": 2,
     "metadata": {},
     "output_type": "execute_result"
    }
   ],
   "source": [
    "# Importando base de dados\n",
    "credito = pd.read_csv('../Dados/Credit.csv')\n",
    "credito.head()"
   ]
  },
  {
   "cell_type": "code",
   "execution_count": 3,
   "metadata": {},
   "outputs": [],
   "source": [
    "# Separando dados e classe (Feature, Target)\n",
    "previsores = credito.iloc[:, 0:20].values\n",
    "classe = credito.iloc[:, 20].values"
   ]
  },
  {
   "cell_type": "code",
   "execution_count": 4,
   "metadata": {},
   "outputs": [],
   "source": [
    "# Convertendo valores categóricos em numéricos\n",
    "label_enconder = LabelEncoder()\n",
    "previsores[:, 0] = label_enconder.fit_transform(previsores[:, 0])\n",
    "previsores[:, 2] = label_enconder.fit_transform(previsores[:, 2])\n",
    "previsores[:, 3] = label_enconder.fit_transform(previsores[:, 3])\n",
    "previsores[:, 5] = label_enconder.fit_transform(previsores[:, 5])\n",
    "previsores[:, 6] = label_enconder.fit_transform(previsores[:, 6])\n",
    "previsores[:, 8] = label_enconder.fit_transform(previsores[:, 8])\n",
    "previsores[:, 9] = label_enconder.fit_transform(previsores[:, 9])\n",
    "previsores[:, 11] = label_enconder.fit_transform(previsores[:, 11])\n",
    "previsores[:, 13] = label_enconder.fit_transform(previsores[:, 13])\n",
    "previsores[:, 14] = label_enconder.fit_transform(previsores[:, 14])\n",
    "previsores[:, 16] = label_enconder.fit_transform(previsores[:, 16])\n",
    "previsores[:, 18] = label_enconder.fit_transform(previsores[:, 18])\n",
    "previsores[:, 19] = label_enconder.fit_transform(previsores[:, 19])\n",
    "\n",
    "# Dividindo base entre treino e teste\n",
    "X_training, X_test, y_training, y_test = train_test_split(previsores, classe, test_size = 0.3, random_state = 0)"
   ]
  },
  {
   "cell_type": "code",
   "execution_count": 5,
   "metadata": {},
   "outputs": [
    {
     "data": {
      "text/html": [
       "<style>#sk-container-id-1 {color: black;background-color: white;}#sk-container-id-1 pre{padding: 0;}#sk-container-id-1 div.sk-toggleable {background-color: white;}#sk-container-id-1 label.sk-toggleable__label {cursor: pointer;display: block;width: 100%;margin-bottom: 0;padding: 0.3em;box-sizing: border-box;text-align: center;}#sk-container-id-1 label.sk-toggleable__label-arrow:before {content: \"▸\";float: left;margin-right: 0.25em;color: #696969;}#sk-container-id-1 label.sk-toggleable__label-arrow:hover:before {color: black;}#sk-container-id-1 div.sk-estimator:hover label.sk-toggleable__label-arrow:before {color: black;}#sk-container-id-1 div.sk-toggleable__content {max-height: 0;max-width: 0;overflow: hidden;text-align: left;background-color: #f0f8ff;}#sk-container-id-1 div.sk-toggleable__content pre {margin: 0.2em;color: black;border-radius: 0.25em;background-color: #f0f8ff;}#sk-container-id-1 input.sk-toggleable__control:checked~div.sk-toggleable__content {max-height: 200px;max-width: 100%;overflow: auto;}#sk-container-id-1 input.sk-toggleable__control:checked~label.sk-toggleable__label-arrow:before {content: \"▾\";}#sk-container-id-1 div.sk-estimator input.sk-toggleable__control:checked~label.sk-toggleable__label {background-color: #d4ebff;}#sk-container-id-1 div.sk-label input.sk-toggleable__control:checked~label.sk-toggleable__label {background-color: #d4ebff;}#sk-container-id-1 input.sk-hidden--visually {border: 0;clip: rect(1px 1px 1px 1px);clip: rect(1px, 1px, 1px, 1px);height: 1px;margin: -1px;overflow: hidden;padding: 0;position: absolute;width: 1px;}#sk-container-id-1 div.sk-estimator {font-family: monospace;background-color: #f0f8ff;border: 1px dotted black;border-radius: 0.25em;box-sizing: border-box;margin-bottom: 0.5em;}#sk-container-id-1 div.sk-estimator:hover {background-color: #d4ebff;}#sk-container-id-1 div.sk-parallel-item::after {content: \"\";width: 100%;border-bottom: 1px solid gray;flex-grow: 1;}#sk-container-id-1 div.sk-label:hover label.sk-toggleable__label {background-color: #d4ebff;}#sk-container-id-1 div.sk-serial::before {content: \"\";position: absolute;border-left: 1px solid gray;box-sizing: border-box;top: 0;bottom: 0;left: 50%;z-index: 0;}#sk-container-id-1 div.sk-serial {display: flex;flex-direction: column;align-items: center;background-color: white;padding-right: 0.2em;padding-left: 0.2em;position: relative;}#sk-container-id-1 div.sk-item {position: relative;z-index: 1;}#sk-container-id-1 div.sk-parallel {display: flex;align-items: stretch;justify-content: center;background-color: white;position: relative;}#sk-container-id-1 div.sk-item::before, #sk-container-id-1 div.sk-parallel-item::before {content: \"\";position: absolute;border-left: 1px solid gray;box-sizing: border-box;top: 0;bottom: 0;left: 50%;z-index: -1;}#sk-container-id-1 div.sk-parallel-item {display: flex;flex-direction: column;z-index: 1;position: relative;background-color: white;}#sk-container-id-1 div.sk-parallel-item:first-child::after {align-self: flex-end;width: 50%;}#sk-container-id-1 div.sk-parallel-item:last-child::after {align-self: flex-start;width: 50%;}#sk-container-id-1 div.sk-parallel-item:only-child::after {width: 0;}#sk-container-id-1 div.sk-dashed-wrapped {border: 1px dashed gray;margin: 0 0.4em 0.5em 0.4em;box-sizing: border-box;padding-bottom: 0.4em;background-color: white;}#sk-container-id-1 div.sk-label label {font-family: monospace;font-weight: bold;display: inline-block;line-height: 1.2em;}#sk-container-id-1 div.sk-label-container {text-align: center;}#sk-container-id-1 div.sk-container {/* jupyter's `normalize.less` sets `[hidden] { display: none; }` but bootstrap.min.css set `[hidden] { display: none !important; }` so we also need the `!important` here to be able to override the default hidden behavior on the sphinx rendered scikit-learn.org. See: https://github.com/scikit-learn/scikit-learn/issues/21755 */display: inline-block !important;position: relative;}#sk-container-id-1 div.sk-text-repr-fallback {display: none;}</style><div id=\"sk-container-id-1\" class=\"sk-top-container\"><div class=\"sk-text-repr-fallback\"><pre>RandomForestClassifier()</pre><b>In a Jupyter environment, please rerun this cell to show the HTML representation or trust the notebook. <br />On GitHub, the HTML representation is unable to render, please try loading this page with nbviewer.org.</b></div><div class=\"sk-container\" hidden><div class=\"sk-item\"><div class=\"sk-estimator sk-toggleable\"><input class=\"sk-toggleable__control sk-hidden--visually\" id=\"sk-estimator-id-1\" type=\"checkbox\" checked><label for=\"sk-estimator-id-1\" class=\"sk-toggleable__label sk-toggleable__label-arrow\">RandomForestClassifier</label><div class=\"sk-toggleable__content\"><pre>RandomForestClassifier()</pre></div></div></div></div></div>"
      ],
      "text/plain": [
       "RandomForestClassifier()"
      ]
     },
     "execution_count": 5,
     "metadata": {},
     "output_type": "execute_result"
    }
   ],
   "source": [
    "# Criando modelo de treinamento e teste\n",
    "floresta = RandomForestClassifier(n_estimators = 100)\n",
    "floresta.fit(X_training, y_training)"
   ]
  },
  {
   "cell_type": "code",
   "execution_count": 6,
   "metadata": {},
   "outputs": [
    {
     "data": {
      "text/plain": [
       "[DecisionTreeClassifier(max_features='sqrt', random_state=1733909632),\n",
       " DecisionTreeClassifier(max_features='sqrt', random_state=2110171145),\n",
       " DecisionTreeClassifier(max_features='sqrt', random_state=1303623756),\n",
       " DecisionTreeClassifier(max_features='sqrt', random_state=1108728570),\n",
       " DecisionTreeClassifier(max_features='sqrt', random_state=1951293378),\n",
       " DecisionTreeClassifier(max_features='sqrt', random_state=672239844),\n",
       " DecisionTreeClassifier(max_features='sqrt', random_state=594009687),\n",
       " DecisionTreeClassifier(max_features='sqrt', random_state=2061455661),\n",
       " DecisionTreeClassifier(max_features='sqrt', random_state=584929),\n",
       " DecisionTreeClassifier(max_features='sqrt', random_state=141814388),\n",
       " DecisionTreeClassifier(max_features='sqrt', random_state=1793603927),\n",
       " DecisionTreeClassifier(max_features='sqrt', random_state=1498322999),\n",
       " DecisionTreeClassifier(max_features='sqrt', random_state=650951278),\n",
       " DecisionTreeClassifier(max_features='sqrt', random_state=2026190016),\n",
       " DecisionTreeClassifier(max_features='sqrt', random_state=1995692948),\n",
       " DecisionTreeClassifier(max_features='sqrt', random_state=2081576838),\n",
       " DecisionTreeClassifier(max_features='sqrt', random_state=744959204),\n",
       " DecisionTreeClassifier(max_features='sqrt', random_state=1206202314),\n",
       " DecisionTreeClassifier(max_features='sqrt', random_state=853874183),\n",
       " DecisionTreeClassifier(max_features='sqrt', random_state=2055034370),\n",
       " DecisionTreeClassifier(max_features='sqrt', random_state=1465933699),\n",
       " DecisionTreeClassifier(max_features='sqrt', random_state=1360399117),\n",
       " DecisionTreeClassifier(max_features='sqrt', random_state=355438104),\n",
       " DecisionTreeClassifier(max_features='sqrt', random_state=2064790704),\n",
       " DecisionTreeClassifier(max_features='sqrt', random_state=1480684539),\n",
       " DecisionTreeClassifier(max_features='sqrt', random_state=40590865),\n",
       " DecisionTreeClassifier(max_features='sqrt', random_state=1225245649),\n",
       " DecisionTreeClassifier(max_features='sqrt', random_state=676236955),\n",
       " DecisionTreeClassifier(max_features='sqrt', random_state=1090038624),\n",
       " DecisionTreeClassifier(max_features='sqrt', random_state=1634615371),\n",
       " DecisionTreeClassifier(max_features='sqrt', random_state=1968021200),\n",
       " DecisionTreeClassifier(max_features='sqrt', random_state=2049174190),\n",
       " DecisionTreeClassifier(max_features='sqrt', random_state=1262651186),\n",
       " DecisionTreeClassifier(max_features='sqrt', random_state=967999034),\n",
       " DecisionTreeClassifier(max_features='sqrt', random_state=1875791551),\n",
       " DecisionTreeClassifier(max_features='sqrt', random_state=598878391),\n",
       " DecisionTreeClassifier(max_features='sqrt', random_state=1040265553),\n",
       " DecisionTreeClassifier(max_features='sqrt', random_state=1923940987),\n",
       " DecisionTreeClassifier(max_features='sqrt', random_state=747252643),\n",
       " DecisionTreeClassifier(max_features='sqrt', random_state=1619548030),\n",
       " DecisionTreeClassifier(max_features='sqrt', random_state=1115596867),\n",
       " DecisionTreeClassifier(max_features='sqrt', random_state=393307500),\n",
       " DecisionTreeClassifier(max_features='sqrt', random_state=902998555),\n",
       " DecisionTreeClassifier(max_features='sqrt', random_state=1813811606),\n",
       " DecisionTreeClassifier(max_features='sqrt', random_state=2042889719),\n",
       " DecisionTreeClassifier(max_features='sqrt', random_state=1036836407),\n",
       " DecisionTreeClassifier(max_features='sqrt', random_state=463109764),\n",
       " DecisionTreeClassifier(max_features='sqrt', random_state=864862746),\n",
       " DecisionTreeClassifier(max_features='sqrt', random_state=1824598012),\n",
       " DecisionTreeClassifier(max_features='sqrt', random_state=991294249),\n",
       " DecisionTreeClassifier(max_features='sqrt', random_state=1586480882),\n",
       " DecisionTreeClassifier(max_features='sqrt', random_state=71715091),\n",
       " DecisionTreeClassifier(max_features='sqrt', random_state=1222432176),\n",
       " DecisionTreeClassifier(max_features='sqrt', random_state=654479588),\n",
       " DecisionTreeClassifier(max_features='sqrt', random_state=1488199162),\n",
       " DecisionTreeClassifier(max_features='sqrt', random_state=1077954549),\n",
       " DecisionTreeClassifier(max_features='sqrt', random_state=1104613831),\n",
       " DecisionTreeClassifier(max_features='sqrt', random_state=1088546246),\n",
       " DecisionTreeClassifier(max_features='sqrt', random_state=1832720939),\n",
       " DecisionTreeClassifier(max_features='sqrt', random_state=1895367012),\n",
       " DecisionTreeClassifier(max_features='sqrt', random_state=1185140719),\n",
       " DecisionTreeClassifier(max_features='sqrt', random_state=1793376317),\n",
       " DecisionTreeClassifier(max_features='sqrt', random_state=1197707731),\n",
       " DecisionTreeClassifier(max_features='sqrt', random_state=35153673),\n",
       " DecisionTreeClassifier(max_features='sqrt', random_state=1403832727),\n",
       " DecisionTreeClassifier(max_features='sqrt', random_state=1632534624),\n",
       " DecisionTreeClassifier(max_features='sqrt', random_state=1266078381),\n",
       " DecisionTreeClassifier(max_features='sqrt', random_state=23914074),\n",
       " DecisionTreeClassifier(max_features='sqrt', random_state=1210425715),\n",
       " DecisionTreeClassifier(max_features='sqrt', random_state=1323368111),\n",
       " DecisionTreeClassifier(max_features='sqrt', random_state=1217080520),\n",
       " DecisionTreeClassifier(max_features='sqrt', random_state=406592295),\n",
       " DecisionTreeClassifier(max_features='sqrt', random_state=2068209673),\n",
       " DecisionTreeClassifier(max_features='sqrt', random_state=1327921919),\n",
       " DecisionTreeClassifier(max_features='sqrt', random_state=1149486359),\n",
       " DecisionTreeClassifier(max_features='sqrt', random_state=258571180),\n",
       " DecisionTreeClassifier(max_features='sqrt', random_state=1630987702),\n",
       " DecisionTreeClassifier(max_features='sqrt', random_state=745990093),\n",
       " DecisionTreeClassifier(max_features='sqrt', random_state=1840767530),\n",
       " DecisionTreeClassifier(max_features='sqrt', random_state=227830750),\n",
       " DecisionTreeClassifier(max_features='sqrt', random_state=1033420441),\n",
       " DecisionTreeClassifier(max_features='sqrt', random_state=1481929874),\n",
       " DecisionTreeClassifier(max_features='sqrt', random_state=674900607),\n",
       " DecisionTreeClassifier(max_features='sqrt', random_state=1327721168),\n",
       " DecisionTreeClassifier(max_features='sqrt', random_state=529935723),\n",
       " DecisionTreeClassifier(max_features='sqrt', random_state=298063795),\n",
       " DecisionTreeClassifier(max_features='sqrt', random_state=186222646),\n",
       " DecisionTreeClassifier(max_features='sqrt', random_state=134435106),\n",
       " DecisionTreeClassifier(max_features='sqrt', random_state=1238497117),\n",
       " DecisionTreeClassifier(max_features='sqrt', random_state=1314803816),\n",
       " DecisionTreeClassifier(max_features='sqrt', random_state=559714511),\n",
       " DecisionTreeClassifier(max_features='sqrt', random_state=186961116),\n",
       " DecisionTreeClassifier(max_features='sqrt', random_state=518871645),\n",
       " DecisionTreeClassifier(max_features='sqrt', random_state=1463687972),\n",
       " DecisionTreeClassifier(max_features='sqrt', random_state=1881583945),\n",
       " DecisionTreeClassifier(max_features='sqrt', random_state=1761777276),\n",
       " DecisionTreeClassifier(max_features='sqrt', random_state=952490953),\n",
       " DecisionTreeClassifier(max_features='sqrt', random_state=850791223),\n",
       " DecisionTreeClassifier(max_features='sqrt', random_state=1187322811),\n",
       " DecisionTreeClassifier(max_features='sqrt', random_state=1336646035)]"
      ]
     },
     "execution_count": 6,
     "metadata": {},
     "output_type": "execute_result"
    }
   ],
   "source": [
    "# Vizualização dos atributos principais\n",
    "floresta.estimators_"
   ]
  },
  {
   "cell_type": "code",
   "execution_count": 7,
   "metadata": {},
   "outputs": [
    {
     "data": {
      "text/plain": [
       "array(['bad', 'good', 'good', 'good', 'good', 'good', 'good', 'good',\n",
       "       'good', 'bad', 'bad', 'good', 'good', 'good', 'bad', 'good',\n",
       "       'good', 'good', 'bad', 'good', 'good', 'bad', 'good', 'good',\n",
       "       'good', 'bad', 'good', 'good', 'good', 'bad', 'good', 'good',\n",
       "       'good', 'bad', 'good', 'bad', 'good', 'good', 'good', 'good',\n",
       "       'good', 'good', 'good', 'good', 'good', 'bad', 'good', 'bad',\n",
       "       'good', 'good', 'good', 'bad', 'good', 'good', 'good', 'good',\n",
       "       'bad', 'good', 'good', 'good', 'bad', 'good', 'good', 'good',\n",
       "       'good', 'good', 'good', 'good', 'bad', 'good', 'good', 'good',\n",
       "       'bad', 'good', 'bad', 'good', 'good', 'good', 'good', 'good',\n",
       "       'good', 'good', 'good', 'good', 'good', 'good', 'bad', 'bad',\n",
       "       'good', 'good', 'good', 'good', 'good', 'good', 'good', 'good',\n",
       "       'good', 'good', 'good', 'good', 'bad', 'good', 'good', 'good',\n",
       "       'good', 'good', 'bad', 'bad', 'bad', 'good', 'good', 'bad', 'good',\n",
       "       'good', 'good', 'good', 'bad', 'good', 'good', 'good', 'good',\n",
       "       'good', 'good', 'good', 'good', 'good', 'good', 'good', 'good',\n",
       "       'good', 'good', 'good', 'bad', 'good', 'good', 'good', 'good',\n",
       "       'good', 'good', 'good', 'bad', 'bad', 'good', 'good', 'good',\n",
       "       'good', 'good', 'bad', 'good', 'good', 'good', 'good', 'good',\n",
       "       'good', 'good', 'good', 'good', 'good', 'good', 'good', 'good',\n",
       "       'good', 'good', 'good', 'bad', 'bad', 'bad', 'good', 'good',\n",
       "       'good', 'good', 'good', 'bad', 'good', 'good', 'bad', 'bad', 'bad',\n",
       "       'good', 'good', 'good', 'good', 'good', 'bad', 'good', 'good',\n",
       "       'good', 'good', 'good', 'good', 'good', 'bad', 'good', 'good',\n",
       "       'good', 'good', 'good', 'good', 'good', 'good', 'good', 'bad',\n",
       "       'bad', 'bad', 'good', 'good', 'bad', 'good', 'good', 'good',\n",
       "       'good', 'good', 'good', 'good', 'good', 'good', 'good', 'good',\n",
       "       'good', 'bad', 'bad', 'good', 'good', 'good', 'good', 'good',\n",
       "       'good', 'bad', 'bad', 'good', 'good', 'good', 'good', 'good',\n",
       "       'bad', 'bad', 'good', 'good', 'good', 'good', 'good', 'good',\n",
       "       'good', 'good', 'good', 'good', 'good', 'good', 'good', 'good',\n",
       "       'good', 'good', 'good', 'good', 'good', 'good', 'bad', 'good',\n",
       "       'good', 'good', 'good', 'good', 'good', 'good', 'bad', 'bad',\n",
       "       'good', 'good', 'good', 'good', 'good', 'good', 'good', 'good',\n",
       "       'good', 'good', 'good', 'good', 'good', 'good', 'good', 'good',\n",
       "       'good', 'good', 'good', 'good', 'good', 'good', 'good', 'good',\n",
       "       'good', 'good', 'good', 'good', 'good', 'good', 'bad', 'good',\n",
       "       'bad', 'bad'], dtype=object)"
      ]
     },
     "execution_count": 7,
     "metadata": {},
     "output_type": "execute_result"
    }
   ],
   "source": [
    "# Testando modelo\n",
    "previsoes = floresta.predict(X_test)\n",
    "previsoes"
   ]
  },
  {
   "cell_type": "code",
   "execution_count": 8,
   "metadata": {},
   "outputs": [
    {
     "data": {
      "text/plain": [
       "array([[ 38,  48],\n",
       "       [ 17, 197]])"
      ]
     },
     "execution_count": 8,
     "metadata": {},
     "output_type": "execute_result"
    }
   ],
   "source": [
    "# Gerando matriz de confusão\n",
    "confusao = confusion_matrix(y_test, previsoes)\n",
    "confusao"
   ]
  },
  {
   "cell_type": "code",
   "execution_count": 9,
   "metadata": {},
   "outputs": [
    {
     "data": {
      "text/plain": [
       "0.7833333333333333"
      ]
     },
     "execution_count": 9,
     "metadata": {},
     "output_type": "execute_result"
    }
   ],
   "source": [
    "# Verificando taxa de acerto\n",
    "taxa_acerto = accuracy_score(y_test, previsoes)\n",
    "taxa_acerto"
   ]
  },
  {
   "cell_type": "code",
   "execution_count": 10,
   "metadata": {},
   "outputs": [
    {
     "data": {
      "text/plain": [
       "0.21666666666666667"
      ]
     },
     "execution_count": 10,
     "metadata": {},
     "output_type": "execute_result"
    }
   ],
   "source": [
    "# Verificando taxa de erro\n",
    "taxa_erro = 1 - taxa_acerto\n",
    "taxa_erro"
   ]
  },
  {
   "cell_type": "code",
   "execution_count": 11,
   "metadata": {},
   "outputs": [
    {
     "data": {
      "text/plain": [
       "[DecisionTreeClassifier(max_features='sqrt', random_state=1733909632),\n",
       " DecisionTreeClassifier(max_features='sqrt', random_state=2110171145),\n",
       " DecisionTreeClassifier(max_features='sqrt', random_state=1303623756),\n",
       " DecisionTreeClassifier(max_features='sqrt', random_state=1108728570),\n",
       " DecisionTreeClassifier(max_features='sqrt', random_state=1951293378),\n",
       " DecisionTreeClassifier(max_features='sqrt', random_state=672239844),\n",
       " DecisionTreeClassifier(max_features='sqrt', random_state=594009687),\n",
       " DecisionTreeClassifier(max_features='sqrt', random_state=2061455661),\n",
       " DecisionTreeClassifier(max_features='sqrt', random_state=584929),\n",
       " DecisionTreeClassifier(max_features='sqrt', random_state=141814388),\n",
       " DecisionTreeClassifier(max_features='sqrt', random_state=1793603927),\n",
       " DecisionTreeClassifier(max_features='sqrt', random_state=1498322999),\n",
       " DecisionTreeClassifier(max_features='sqrt', random_state=650951278),\n",
       " DecisionTreeClassifier(max_features='sqrt', random_state=2026190016),\n",
       " DecisionTreeClassifier(max_features='sqrt', random_state=1995692948),\n",
       " DecisionTreeClassifier(max_features='sqrt', random_state=2081576838),\n",
       " DecisionTreeClassifier(max_features='sqrt', random_state=744959204),\n",
       " DecisionTreeClassifier(max_features='sqrt', random_state=1206202314),\n",
       " DecisionTreeClassifier(max_features='sqrt', random_state=853874183),\n",
       " DecisionTreeClassifier(max_features='sqrt', random_state=2055034370),\n",
       " DecisionTreeClassifier(max_features='sqrt', random_state=1465933699),\n",
       " DecisionTreeClassifier(max_features='sqrt', random_state=1360399117),\n",
       " DecisionTreeClassifier(max_features='sqrt', random_state=355438104),\n",
       " DecisionTreeClassifier(max_features='sqrt', random_state=2064790704),\n",
       " DecisionTreeClassifier(max_features='sqrt', random_state=1480684539),\n",
       " DecisionTreeClassifier(max_features='sqrt', random_state=40590865),\n",
       " DecisionTreeClassifier(max_features='sqrt', random_state=1225245649),\n",
       " DecisionTreeClassifier(max_features='sqrt', random_state=676236955),\n",
       " DecisionTreeClassifier(max_features='sqrt', random_state=1090038624),\n",
       " DecisionTreeClassifier(max_features='sqrt', random_state=1634615371),\n",
       " DecisionTreeClassifier(max_features='sqrt', random_state=1968021200),\n",
       " DecisionTreeClassifier(max_features='sqrt', random_state=2049174190),\n",
       " DecisionTreeClassifier(max_features='sqrt', random_state=1262651186),\n",
       " DecisionTreeClassifier(max_features='sqrt', random_state=967999034),\n",
       " DecisionTreeClassifier(max_features='sqrt', random_state=1875791551),\n",
       " DecisionTreeClassifier(max_features='sqrt', random_state=598878391),\n",
       " DecisionTreeClassifier(max_features='sqrt', random_state=1040265553),\n",
       " DecisionTreeClassifier(max_features='sqrt', random_state=1923940987),\n",
       " DecisionTreeClassifier(max_features='sqrt', random_state=747252643),\n",
       " DecisionTreeClassifier(max_features='sqrt', random_state=1619548030),\n",
       " DecisionTreeClassifier(max_features='sqrt', random_state=1115596867),\n",
       " DecisionTreeClassifier(max_features='sqrt', random_state=393307500),\n",
       " DecisionTreeClassifier(max_features='sqrt', random_state=902998555),\n",
       " DecisionTreeClassifier(max_features='sqrt', random_state=1813811606),\n",
       " DecisionTreeClassifier(max_features='sqrt', random_state=2042889719),\n",
       " DecisionTreeClassifier(max_features='sqrt', random_state=1036836407),\n",
       " DecisionTreeClassifier(max_features='sqrt', random_state=463109764),\n",
       " DecisionTreeClassifier(max_features='sqrt', random_state=864862746),\n",
       " DecisionTreeClassifier(max_features='sqrt', random_state=1824598012),\n",
       " DecisionTreeClassifier(max_features='sqrt', random_state=991294249),\n",
       " DecisionTreeClassifier(max_features='sqrt', random_state=1586480882),\n",
       " DecisionTreeClassifier(max_features='sqrt', random_state=71715091),\n",
       " DecisionTreeClassifier(max_features='sqrt', random_state=1222432176),\n",
       " DecisionTreeClassifier(max_features='sqrt', random_state=654479588),\n",
       " DecisionTreeClassifier(max_features='sqrt', random_state=1488199162),\n",
       " DecisionTreeClassifier(max_features='sqrt', random_state=1077954549),\n",
       " DecisionTreeClassifier(max_features='sqrt', random_state=1104613831),\n",
       " DecisionTreeClassifier(max_features='sqrt', random_state=1088546246),\n",
       " DecisionTreeClassifier(max_features='sqrt', random_state=1832720939),\n",
       " DecisionTreeClassifier(max_features='sqrt', random_state=1895367012),\n",
       " DecisionTreeClassifier(max_features='sqrt', random_state=1185140719),\n",
       " DecisionTreeClassifier(max_features='sqrt', random_state=1793376317),\n",
       " DecisionTreeClassifier(max_features='sqrt', random_state=1197707731),\n",
       " DecisionTreeClassifier(max_features='sqrt', random_state=35153673),\n",
       " DecisionTreeClassifier(max_features='sqrt', random_state=1403832727),\n",
       " DecisionTreeClassifier(max_features='sqrt', random_state=1632534624),\n",
       " DecisionTreeClassifier(max_features='sqrt', random_state=1266078381),\n",
       " DecisionTreeClassifier(max_features='sqrt', random_state=23914074),\n",
       " DecisionTreeClassifier(max_features='sqrt', random_state=1210425715),\n",
       " DecisionTreeClassifier(max_features='sqrt', random_state=1323368111),\n",
       " DecisionTreeClassifier(max_features='sqrt', random_state=1217080520),\n",
       " DecisionTreeClassifier(max_features='sqrt', random_state=406592295),\n",
       " DecisionTreeClassifier(max_features='sqrt', random_state=2068209673),\n",
       " DecisionTreeClassifier(max_features='sqrt', random_state=1327921919),\n",
       " DecisionTreeClassifier(max_features='sqrt', random_state=1149486359),\n",
       " DecisionTreeClassifier(max_features='sqrt', random_state=258571180),\n",
       " DecisionTreeClassifier(max_features='sqrt', random_state=1630987702),\n",
       " DecisionTreeClassifier(max_features='sqrt', random_state=745990093),\n",
       " DecisionTreeClassifier(max_features='sqrt', random_state=1840767530),\n",
       " DecisionTreeClassifier(max_features='sqrt', random_state=227830750),\n",
       " DecisionTreeClassifier(max_features='sqrt', random_state=1033420441),\n",
       " DecisionTreeClassifier(max_features='sqrt', random_state=1481929874),\n",
       " DecisionTreeClassifier(max_features='sqrt', random_state=674900607),\n",
       " DecisionTreeClassifier(max_features='sqrt', random_state=1327721168),\n",
       " DecisionTreeClassifier(max_features='sqrt', random_state=529935723),\n",
       " DecisionTreeClassifier(max_features='sqrt', random_state=298063795),\n",
       " DecisionTreeClassifier(max_features='sqrt', random_state=186222646),\n",
       " DecisionTreeClassifier(max_features='sqrt', random_state=134435106),\n",
       " DecisionTreeClassifier(max_features='sqrt', random_state=1238497117),\n",
       " DecisionTreeClassifier(max_features='sqrt', random_state=1314803816),\n",
       " DecisionTreeClassifier(max_features='sqrt', random_state=559714511),\n",
       " DecisionTreeClassifier(max_features='sqrt', random_state=186961116),\n",
       " DecisionTreeClassifier(max_features='sqrt', random_state=518871645),\n",
       " DecisionTreeClassifier(max_features='sqrt', random_state=1463687972),\n",
       " DecisionTreeClassifier(max_features='sqrt', random_state=1881583945),\n",
       " DecisionTreeClassifier(max_features='sqrt', random_state=1761777276),\n",
       " DecisionTreeClassifier(max_features='sqrt', random_state=952490953),\n",
       " DecisionTreeClassifier(max_features='sqrt', random_state=850791223),\n",
       " DecisionTreeClassifier(max_features='sqrt', random_state=1187322811),\n",
       " DecisionTreeClassifier(max_features='sqrt', random_state=1336646035)]"
      ]
     },
     "execution_count": 11,
     "metadata": {},
     "output_type": "execute_result"
    }
   ],
   "source": [
    "# Verificando dados das árvores\n",
    "floresta.estimators_"
   ]
  },
  {
   "cell_type": "code",
   "execution_count": 12,
   "metadata": {},
   "outputs": [
    {
     "data": {
      "text/html": [
       "<style>#sk-container-id-2 {color: black;background-color: white;}#sk-container-id-2 pre{padding: 0;}#sk-container-id-2 div.sk-toggleable {background-color: white;}#sk-container-id-2 label.sk-toggleable__label {cursor: pointer;display: block;width: 100%;margin-bottom: 0;padding: 0.3em;box-sizing: border-box;text-align: center;}#sk-container-id-2 label.sk-toggleable__label-arrow:before {content: \"▸\";float: left;margin-right: 0.25em;color: #696969;}#sk-container-id-2 label.sk-toggleable__label-arrow:hover:before {color: black;}#sk-container-id-2 div.sk-estimator:hover label.sk-toggleable__label-arrow:before {color: black;}#sk-container-id-2 div.sk-toggleable__content {max-height: 0;max-width: 0;overflow: hidden;text-align: left;background-color: #f0f8ff;}#sk-container-id-2 div.sk-toggleable__content pre {margin: 0.2em;color: black;border-radius: 0.25em;background-color: #f0f8ff;}#sk-container-id-2 input.sk-toggleable__control:checked~div.sk-toggleable__content {max-height: 200px;max-width: 100%;overflow: auto;}#sk-container-id-2 input.sk-toggleable__control:checked~label.sk-toggleable__label-arrow:before {content: \"▾\";}#sk-container-id-2 div.sk-estimator input.sk-toggleable__control:checked~label.sk-toggleable__label {background-color: #d4ebff;}#sk-container-id-2 div.sk-label input.sk-toggleable__control:checked~label.sk-toggleable__label {background-color: #d4ebff;}#sk-container-id-2 input.sk-hidden--visually {border: 0;clip: rect(1px 1px 1px 1px);clip: rect(1px, 1px, 1px, 1px);height: 1px;margin: -1px;overflow: hidden;padding: 0;position: absolute;width: 1px;}#sk-container-id-2 div.sk-estimator {font-family: monospace;background-color: #f0f8ff;border: 1px dotted black;border-radius: 0.25em;box-sizing: border-box;margin-bottom: 0.5em;}#sk-container-id-2 div.sk-estimator:hover {background-color: #d4ebff;}#sk-container-id-2 div.sk-parallel-item::after {content: \"\";width: 100%;border-bottom: 1px solid gray;flex-grow: 1;}#sk-container-id-2 div.sk-label:hover label.sk-toggleable__label {background-color: #d4ebff;}#sk-container-id-2 div.sk-serial::before {content: \"\";position: absolute;border-left: 1px solid gray;box-sizing: border-box;top: 0;bottom: 0;left: 50%;z-index: 0;}#sk-container-id-2 div.sk-serial {display: flex;flex-direction: column;align-items: center;background-color: white;padding-right: 0.2em;padding-left: 0.2em;position: relative;}#sk-container-id-2 div.sk-item {position: relative;z-index: 1;}#sk-container-id-2 div.sk-parallel {display: flex;align-items: stretch;justify-content: center;background-color: white;position: relative;}#sk-container-id-2 div.sk-item::before, #sk-container-id-2 div.sk-parallel-item::before {content: \"\";position: absolute;border-left: 1px solid gray;box-sizing: border-box;top: 0;bottom: 0;left: 50%;z-index: -1;}#sk-container-id-2 div.sk-parallel-item {display: flex;flex-direction: column;z-index: 1;position: relative;background-color: white;}#sk-container-id-2 div.sk-parallel-item:first-child::after {align-self: flex-end;width: 50%;}#sk-container-id-2 div.sk-parallel-item:last-child::after {align-self: flex-start;width: 50%;}#sk-container-id-2 div.sk-parallel-item:only-child::after {width: 0;}#sk-container-id-2 div.sk-dashed-wrapped {border: 1px dashed gray;margin: 0 0.4em 0.5em 0.4em;box-sizing: border-box;padding-bottom: 0.4em;background-color: white;}#sk-container-id-2 div.sk-label label {font-family: monospace;font-weight: bold;display: inline-block;line-height: 1.2em;}#sk-container-id-2 div.sk-label-container {text-align: center;}#sk-container-id-2 div.sk-container {/* jupyter's `normalize.less` sets `[hidden] { display: none; }` but bootstrap.min.css set `[hidden] { display: none !important; }` so we also need the `!important` here to be able to override the default hidden behavior on the sphinx rendered scikit-learn.org. See: https://github.com/scikit-learn/scikit-learn/issues/21755 */display: inline-block !important;position: relative;}#sk-container-id-2 div.sk-text-repr-fallback {display: none;}</style><div id=\"sk-container-id-2\" class=\"sk-top-container\"><div class=\"sk-text-repr-fallback\"><pre>DecisionTreeClassifier(max_features=&#x27;sqrt&#x27;, random_state=2110171145)</pre><b>In a Jupyter environment, please rerun this cell to show the HTML representation or trust the notebook. <br />On GitHub, the HTML representation is unable to render, please try loading this page with nbviewer.org.</b></div><div class=\"sk-container\" hidden><div class=\"sk-item\"><div class=\"sk-estimator sk-toggleable\"><input class=\"sk-toggleable__control sk-hidden--visually\" id=\"sk-estimator-id-2\" type=\"checkbox\" checked><label for=\"sk-estimator-id-2\" class=\"sk-toggleable__label sk-toggleable__label-arrow\">DecisionTreeClassifier</label><div class=\"sk-toggleable__content\"><pre>DecisionTreeClassifier(max_features=&#x27;sqrt&#x27;, random_state=2110171145)</pre></div></div></div></div></div>"
      ],
      "text/plain": [
       "DecisionTreeClassifier(max_features='sqrt', random_state=2110171145)"
      ]
     },
     "execution_count": 12,
     "metadata": {},
     "output_type": "execute_result"
    }
   ],
   "source": [
    "# Verificando dados das árvores\n",
    "floresta.estimators_[1]"
   ]
  }
 ],
 "metadata": {
  "kernelspec": {
   "display_name": "Python 3.11.0 ('.venv': venv)",
   "language": "python",
   "name": "python3"
  },
  "language_info": {
   "codemirror_mode": {
    "name": "ipython",
    "version": 3
   },
   "file_extension": ".py",
   "mimetype": "text/x-python",
   "name": "python",
   "nbconvert_exporter": "python",
   "pygments_lexer": "ipython3",
   "version": "3.11.0"
  },
  "orig_nbformat": 2,
  "vscode": {
   "interpreter": {
    "hash": "3ea0a9893250fc57795d009ac138e77c80cae4e349f027fbb905c62be7355b4c"
   }
  }
 },
 "nbformat": 4,
 "nbformat_minor": 2
}
