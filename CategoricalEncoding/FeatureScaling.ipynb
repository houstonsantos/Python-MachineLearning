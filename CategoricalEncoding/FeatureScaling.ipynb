{
 "metadata": {
  "language_info": {
   "codemirror_mode": {
    "name": "ipython",
    "version": 3
   },
   "file_extension": ".py",
   "mimetype": "text/x-python",
   "name": "python",
   "nbconvert_exporter": "python",
   "pygments_lexer": "ipython3",
   "version": 3
  },
  "orig_nbformat": 2
 },
 "nbformat": 4,
 "nbformat_minor": 2,
 "cells": [
  {
   "cell_type": "code",
   "execution_count": null,
   "metadata": {},
   "outputs": [],
   "source": [
    "import pandas as pd\n",
    "from sklearn.preprocessing import StandardScaler, MinMaxScaler"
   ]
  },
  {
   "cell_type": "markdown",
   "metadata": {},
   "source": [
    "## Feature Scaling"
   ]
  },
  {
   "cell_type": "code",
   "execution_count": null,
   "metadata": {},
   "outputs": [],
   "source": [
    "fs = dataset.iloc[:, [1, 4, 7]].values\n",
    "\n",
    "# Media 0 Desvio Padrão 1\n",
    "# Padronizando dataset - Z-Score\n",
    "sc = StandardScaler()\n",
    "x = sc.fit_transform(fs)\n",
    "\n",
    "# Normalizando dataset\n",
    "sc = MinMaxScaler()\n",
    "y = sc.fit_transform(fs)"
   ]
  }
 ]
}