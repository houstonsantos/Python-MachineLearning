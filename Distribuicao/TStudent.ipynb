{
 "metadata": {
  "language_info": {
   "codemirror_mode": {
    "name": "ipython",
    "version": 3
   },
   "file_extension": ".py",
   "mimetype": "text/x-python",
   "name": "python",
   "nbconvert_exporter": "python",
   "pygments_lexer": "ipython3",
   "version": 3
  },
  "orig_nbformat": 2,
  "kernelspec": {
   "name": "python_defaultSpec_1596931125634",
   "display_name": "Python 3.7.3 64-bit ('venv': venv)"
  }
 },
 "nbformat": 4,
 "nbformat_minor": 2,
 "cells": [
  {
   "cell_type": "code",
   "execution_count": 2,
   "metadata": {},
   "outputs": [],
   "source": [
    "from scipy.stats import t"
   ]
  },
  {
   "cell_type": "markdown",
   "metadata": {},
   "source": [
    "## Distribuição T - Student\n",
    "\n",
    "### Média do salário dos cientistas de dados = R$ 75 reais por hora\n",
    "### Amostra de tamanho 9, desvio padrão 10, z = 1.5 e 8 graus de liberdade"
   ]
  },
  {
   "cell_type": "code",
   "execution_count": 3,
   "metadata": {},
   "outputs": [
    {
     "output_type": "execute_result",
     "data": {
      "text/plain": "0.9139983540240443"
     },
     "metadata": {},
     "execution_count": 3
    }
   ],
   "source": [
    "# Qaul a probabilidade de selecionar um cientista de dados e o salário ser menor que R$ 80 reais\n",
    "t.cdf(1.5, 8)"
   ]
  },
  {
   "cell_type": "code",
   "execution_count": 4,
   "metadata": {},
   "outputs": [
    {
     "output_type": "execute_result",
     "data": {
      "text/plain": "0.08600164597595565"
     },
     "metadata": {},
     "execution_count": 4
    }
   ],
   "source": [
    "# Qaul a probabilidade de selecionar um cientista de dados e o salário ser maior que R$ 80 reais\n",
    "t.sf(1.5, 8)"
   ]
  }
 ]
}